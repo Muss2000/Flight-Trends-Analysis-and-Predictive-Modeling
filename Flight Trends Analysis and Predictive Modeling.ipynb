{
 "cells": [
  {
   "cell_type": "code",
   "execution_count": 1,
   "metadata": {
    "executionInfo": {
     "elapsed": 1836,
     "status": "ok",
     "timestamp": 1715531166880,
     "user": {
      "displayName": "TEJAS N",
      "userId": "11679441052771901128"
     },
     "user_tz": -330
    },
    "id": "T5w8Z5gF52ku"
   },
   "outputs": [],
   "source": [
    "import pandas as pd\n",
    "import numpy as np\n",
    "import matplotlib.pyplot as plt\n",
    "import seaborn as sns\n",
    "import warnings\n",
    "warnings.filterwarnings(\"ignore\")"
   ]
  },
  {
   "cell_type": "code",
   "execution_count": 4,
   "metadata": {
    "executionInfo": {
     "elapsed": 4585,
     "status": "ok",
     "timestamp": 1715531238727,
     "user": {
      "displayName": "TEJAS N",
      "userId": "11679441052771901128"
     },
     "user_tz": -330
    },
    "id": "yWwWVe7-7NuT"
   },
   "outputs": [
    {
     "data": {
      "text/html": [
       "<div>\n",
       "<style scoped>\n",
       "    .dataframe tbody tr th:only-of-type {\n",
       "        vertical-align: middle;\n",
       "    }\n",
       "\n",
       "    .dataframe tbody tr th {\n",
       "        vertical-align: top;\n",
       "    }\n",
       "\n",
       "    .dataframe thead th {\n",
       "        text-align: right;\n",
       "    }\n",
       "</style>\n",
       "<table border=\"1\" class=\"dataframe\">\n",
       "  <thead>\n",
       "    <tr style=\"text-align: right;\">\n",
       "      <th></th>\n",
       "      <th>Airline</th>\n",
       "      <th>Date_of_Journey</th>\n",
       "      <th>Source</th>\n",
       "      <th>Destination</th>\n",
       "      <th>Route</th>\n",
       "      <th>Dep_Time</th>\n",
       "      <th>Arrival_Time</th>\n",
       "      <th>Duration</th>\n",
       "      <th>Total_Stops</th>\n",
       "      <th>Additional_Info</th>\n",
       "      <th>Price</th>\n",
       "    </tr>\n",
       "  </thead>\n",
       "  <tbody>\n",
       "    <tr>\n",
       "      <th>0</th>\n",
       "      <td>IndiGo</td>\n",
       "      <td>24/03/2019</td>\n",
       "      <td>Banglore</td>\n",
       "      <td>New Delhi</td>\n",
       "      <td>BLR → DEL</td>\n",
       "      <td>22:20</td>\n",
       "      <td>01:10 22 Mar</td>\n",
       "      <td>2h 50m</td>\n",
       "      <td>non-stop</td>\n",
       "      <td>No info</td>\n",
       "      <td>3897</td>\n",
       "    </tr>\n",
       "    <tr>\n",
       "      <th>1</th>\n",
       "      <td>Air India</td>\n",
       "      <td>1/05/2019</td>\n",
       "      <td>Kolkata</td>\n",
       "      <td>Banglore</td>\n",
       "      <td>CCU → IXR → BBI → BLR</td>\n",
       "      <td>05:50</td>\n",
       "      <td>13:15</td>\n",
       "      <td>7h 25m</td>\n",
       "      <td>2 stops</td>\n",
       "      <td>No info</td>\n",
       "      <td>7662</td>\n",
       "    </tr>\n",
       "    <tr>\n",
       "      <th>2</th>\n",
       "      <td>Jet Airways</td>\n",
       "      <td>9/06/2019</td>\n",
       "      <td>Delhi</td>\n",
       "      <td>Cochin</td>\n",
       "      <td>DEL → LKO → BOM → COK</td>\n",
       "      <td>09:25</td>\n",
       "      <td>04:25 10 Jun</td>\n",
       "      <td>19h</td>\n",
       "      <td>2 stops</td>\n",
       "      <td>No info</td>\n",
       "      <td>13882</td>\n",
       "    </tr>\n",
       "    <tr>\n",
       "      <th>3</th>\n",
       "      <td>IndiGo</td>\n",
       "      <td>12/05/2019</td>\n",
       "      <td>Kolkata</td>\n",
       "      <td>Banglore</td>\n",
       "      <td>CCU → NAG → BLR</td>\n",
       "      <td>18:05</td>\n",
       "      <td>23:30</td>\n",
       "      <td>5h 25m</td>\n",
       "      <td>1 stop</td>\n",
       "      <td>No info</td>\n",
       "      <td>6218</td>\n",
       "    </tr>\n",
       "    <tr>\n",
       "      <th>4</th>\n",
       "      <td>IndiGo</td>\n",
       "      <td>01/03/2019</td>\n",
       "      <td>Banglore</td>\n",
       "      <td>New Delhi</td>\n",
       "      <td>BLR → NAG → DEL</td>\n",
       "      <td>16:50</td>\n",
       "      <td>21:35</td>\n",
       "      <td>4h 45m</td>\n",
       "      <td>1 stop</td>\n",
       "      <td>No info</td>\n",
       "      <td>13302</td>\n",
       "    </tr>\n",
       "    <tr>\n",
       "      <th>...</th>\n",
       "      <td>...</td>\n",
       "      <td>...</td>\n",
       "      <td>...</td>\n",
       "      <td>...</td>\n",
       "      <td>...</td>\n",
       "      <td>...</td>\n",
       "      <td>...</td>\n",
       "      <td>...</td>\n",
       "      <td>...</td>\n",
       "      <td>...</td>\n",
       "      <td>...</td>\n",
       "    </tr>\n",
       "    <tr>\n",
       "      <th>10678</th>\n",
       "      <td>Air Asia</td>\n",
       "      <td>9/04/2019</td>\n",
       "      <td>Kolkata</td>\n",
       "      <td>Banglore</td>\n",
       "      <td>CCU → BLR</td>\n",
       "      <td>19:55</td>\n",
       "      <td>22:25</td>\n",
       "      <td>2h 30m</td>\n",
       "      <td>non-stop</td>\n",
       "      <td>No info</td>\n",
       "      <td>4107</td>\n",
       "    </tr>\n",
       "    <tr>\n",
       "      <th>10679</th>\n",
       "      <td>Air India</td>\n",
       "      <td>27/04/2019</td>\n",
       "      <td>Kolkata</td>\n",
       "      <td>Banglore</td>\n",
       "      <td>CCU → BLR</td>\n",
       "      <td>20:45</td>\n",
       "      <td>23:20</td>\n",
       "      <td>2h 35m</td>\n",
       "      <td>non-stop</td>\n",
       "      <td>No info</td>\n",
       "      <td>4145</td>\n",
       "    </tr>\n",
       "    <tr>\n",
       "      <th>10680</th>\n",
       "      <td>Jet Airways</td>\n",
       "      <td>27/04/2019</td>\n",
       "      <td>Banglore</td>\n",
       "      <td>Delhi</td>\n",
       "      <td>BLR → DEL</td>\n",
       "      <td>08:20</td>\n",
       "      <td>11:20</td>\n",
       "      <td>3h</td>\n",
       "      <td>non-stop</td>\n",
       "      <td>No info</td>\n",
       "      <td>7229</td>\n",
       "    </tr>\n",
       "    <tr>\n",
       "      <th>10681</th>\n",
       "      <td>Vistara</td>\n",
       "      <td>01/03/2019</td>\n",
       "      <td>Banglore</td>\n",
       "      <td>New Delhi</td>\n",
       "      <td>BLR → DEL</td>\n",
       "      <td>11:30</td>\n",
       "      <td>14:10</td>\n",
       "      <td>2h 40m</td>\n",
       "      <td>non-stop</td>\n",
       "      <td>No info</td>\n",
       "      <td>12648</td>\n",
       "    </tr>\n",
       "    <tr>\n",
       "      <th>10682</th>\n",
       "      <td>Air India</td>\n",
       "      <td>9/05/2019</td>\n",
       "      <td>Delhi</td>\n",
       "      <td>Cochin</td>\n",
       "      <td>DEL → GOI → BOM → COK</td>\n",
       "      <td>10:55</td>\n",
       "      <td>19:15</td>\n",
       "      <td>8h 20m</td>\n",
       "      <td>2 stops</td>\n",
       "      <td>No info</td>\n",
       "      <td>11753</td>\n",
       "    </tr>\n",
       "  </tbody>\n",
       "</table>\n",
       "<p>10683 rows × 11 columns</p>\n",
       "</div>"
      ],
      "text/plain": [
       "           Airline Date_of_Journey    Source Destination  \\\n",
       "0           IndiGo      24/03/2019  Banglore   New Delhi   \n",
       "1        Air India       1/05/2019   Kolkata    Banglore   \n",
       "2      Jet Airways       9/06/2019     Delhi      Cochin   \n",
       "3           IndiGo      12/05/2019   Kolkata    Banglore   \n",
       "4           IndiGo      01/03/2019  Banglore   New Delhi   \n",
       "...            ...             ...       ...         ...   \n",
       "10678     Air Asia       9/04/2019   Kolkata    Banglore   \n",
       "10679    Air India      27/04/2019   Kolkata    Banglore   \n",
       "10680  Jet Airways      27/04/2019  Banglore       Delhi   \n",
       "10681      Vistara      01/03/2019  Banglore   New Delhi   \n",
       "10682    Air India       9/05/2019     Delhi      Cochin   \n",
       "\n",
       "                       Route Dep_Time  Arrival_Time Duration Total_Stops  \\\n",
       "0                  BLR → DEL    22:20  01:10 22 Mar   2h 50m    non-stop   \n",
       "1      CCU → IXR → BBI → BLR    05:50         13:15   7h 25m     2 stops   \n",
       "2      DEL → LKO → BOM → COK    09:25  04:25 10 Jun      19h     2 stops   \n",
       "3            CCU → NAG → BLR    18:05         23:30   5h 25m      1 stop   \n",
       "4            BLR → NAG → DEL    16:50         21:35   4h 45m      1 stop   \n",
       "...                      ...      ...           ...      ...         ...   \n",
       "10678              CCU → BLR    19:55         22:25   2h 30m    non-stop   \n",
       "10679              CCU → BLR    20:45         23:20   2h 35m    non-stop   \n",
       "10680              BLR → DEL    08:20         11:20       3h    non-stop   \n",
       "10681              BLR → DEL    11:30         14:10   2h 40m    non-stop   \n",
       "10682  DEL → GOI → BOM → COK    10:55         19:15   8h 20m     2 stops   \n",
       "\n",
       "      Additional_Info  Price  \n",
       "0             No info   3897  \n",
       "1             No info   7662  \n",
       "2             No info  13882  \n",
       "3             No info   6218  \n",
       "4             No info  13302  \n",
       "...               ...    ...  \n",
       "10678         No info   4107  \n",
       "10679         No info   4145  \n",
       "10680         No info   7229  \n",
       "10681         No info  12648  \n",
       "10682         No info  11753  \n",
       "\n",
       "[10683 rows x 11 columns]"
      ]
     },
     "execution_count": 4,
     "metadata": {},
     "output_type": "execute_result"
    }
   ],
   "source": [
    "df = pd.read_excel(r\"G:\\Imarticus Data\\Project Imar\\Imarticus Exams\\ML Advanced Exam Paper\\Dataset\\Flight Price Dataset\\Flight_Price_Train.xlsx\")\n",
    "df"
   ]
  },
  {
   "cell_type": "code",
   "execution_count": 5,
   "metadata": {
    "colab": {
     "base_uri": "https://localhost:8080/",
     "height": 206
    },
    "executionInfo": {
     "elapsed": 24,
     "status": "ok",
     "timestamp": 1715531259886,
     "user": {
      "displayName": "TEJAS N",
      "userId": "11679441052771901128"
     },
     "user_tz": -330
    },
    "id": "nooBMIbSoXHa",
    "outputId": "54f198d6-c39b-4443-e492-d96611ea5f33"
   },
   "outputs": [
    {
     "data": {
      "text/html": [
       "<div>\n",
       "<style scoped>\n",
       "    .dataframe tbody tr th:only-of-type {\n",
       "        vertical-align: middle;\n",
       "    }\n",
       "\n",
       "    .dataframe tbody tr th {\n",
       "        vertical-align: top;\n",
       "    }\n",
       "\n",
       "    .dataframe thead th {\n",
       "        text-align: right;\n",
       "    }\n",
       "</style>\n",
       "<table border=\"1\" class=\"dataframe\">\n",
       "  <thead>\n",
       "    <tr style=\"text-align: right;\">\n",
       "      <th></th>\n",
       "      <th>Airline</th>\n",
       "      <th>Date_of_Journey</th>\n",
       "      <th>Source</th>\n",
       "      <th>Destination</th>\n",
       "      <th>Route</th>\n",
       "      <th>Dep_Time</th>\n",
       "      <th>Arrival_Time</th>\n",
       "      <th>Duration</th>\n",
       "      <th>Total_Stops</th>\n",
       "      <th>Additional_Info</th>\n",
       "      <th>Price</th>\n",
       "    </tr>\n",
       "  </thead>\n",
       "  <tbody>\n",
       "    <tr>\n",
       "      <th>0</th>\n",
       "      <td>IndiGo</td>\n",
       "      <td>24/03/2019</td>\n",
       "      <td>Banglore</td>\n",
       "      <td>New Delhi</td>\n",
       "      <td>BLR → DEL</td>\n",
       "      <td>22:20</td>\n",
       "      <td>01:10 22 Mar</td>\n",
       "      <td>2h 50m</td>\n",
       "      <td>non-stop</td>\n",
       "      <td>No info</td>\n",
       "      <td>3897</td>\n",
       "    </tr>\n",
       "    <tr>\n",
       "      <th>1</th>\n",
       "      <td>Air India</td>\n",
       "      <td>1/05/2019</td>\n",
       "      <td>Kolkata</td>\n",
       "      <td>Banglore</td>\n",
       "      <td>CCU → IXR → BBI → BLR</td>\n",
       "      <td>05:50</td>\n",
       "      <td>13:15</td>\n",
       "      <td>7h 25m</td>\n",
       "      <td>2 stops</td>\n",
       "      <td>No info</td>\n",
       "      <td>7662</td>\n",
       "    </tr>\n",
       "    <tr>\n",
       "      <th>2</th>\n",
       "      <td>Jet Airways</td>\n",
       "      <td>9/06/2019</td>\n",
       "      <td>Delhi</td>\n",
       "      <td>Cochin</td>\n",
       "      <td>DEL → LKO → BOM → COK</td>\n",
       "      <td>09:25</td>\n",
       "      <td>04:25 10 Jun</td>\n",
       "      <td>19h</td>\n",
       "      <td>2 stops</td>\n",
       "      <td>No info</td>\n",
       "      <td>13882</td>\n",
       "    </tr>\n",
       "    <tr>\n",
       "      <th>3</th>\n",
       "      <td>IndiGo</td>\n",
       "      <td>12/05/2019</td>\n",
       "      <td>Kolkata</td>\n",
       "      <td>Banglore</td>\n",
       "      <td>CCU → NAG → BLR</td>\n",
       "      <td>18:05</td>\n",
       "      <td>23:30</td>\n",
       "      <td>5h 25m</td>\n",
       "      <td>1 stop</td>\n",
       "      <td>No info</td>\n",
       "      <td>6218</td>\n",
       "    </tr>\n",
       "    <tr>\n",
       "      <th>4</th>\n",
       "      <td>IndiGo</td>\n",
       "      <td>01/03/2019</td>\n",
       "      <td>Banglore</td>\n",
       "      <td>New Delhi</td>\n",
       "      <td>BLR → NAG → DEL</td>\n",
       "      <td>16:50</td>\n",
       "      <td>21:35</td>\n",
       "      <td>4h 45m</td>\n",
       "      <td>1 stop</td>\n",
       "      <td>No info</td>\n",
       "      <td>13302</td>\n",
       "    </tr>\n",
       "  </tbody>\n",
       "</table>\n",
       "</div>"
      ],
      "text/plain": [
       "       Airline Date_of_Journey    Source Destination                  Route  \\\n",
       "0       IndiGo      24/03/2019  Banglore   New Delhi              BLR → DEL   \n",
       "1    Air India       1/05/2019   Kolkata    Banglore  CCU → IXR → BBI → BLR   \n",
       "2  Jet Airways       9/06/2019     Delhi      Cochin  DEL → LKO → BOM → COK   \n",
       "3       IndiGo      12/05/2019   Kolkata    Banglore        CCU → NAG → BLR   \n",
       "4       IndiGo      01/03/2019  Banglore   New Delhi        BLR → NAG → DEL   \n",
       "\n",
       "  Dep_Time  Arrival_Time Duration Total_Stops Additional_Info  Price  \n",
       "0    22:20  01:10 22 Mar   2h 50m    non-stop         No info   3897  \n",
       "1    05:50         13:15   7h 25m     2 stops         No info   7662  \n",
       "2    09:25  04:25 10 Jun      19h     2 stops         No info  13882  \n",
       "3    18:05         23:30   5h 25m      1 stop         No info   6218  \n",
       "4    16:50         21:35   4h 45m      1 stop         No info  13302  "
      ]
     },
     "execution_count": 5,
     "metadata": {},
     "output_type": "execute_result"
    }
   ],
   "source": [
    "# checking top 5 rows\n",
    "df.head()"
   ]
  },
  {
   "cell_type": "code",
   "execution_count": 9,
   "metadata": {
    "colab": {
     "base_uri": "https://localhost:8080/",
     "height": 206
    },
    "executionInfo": {
     "elapsed": 17,
     "status": "ok",
     "timestamp": 1715531340801,
     "user": {
      "displayName": "TEJAS N",
      "userId": "11679441052771901128"
     },
     "user_tz": -330
    },
    "id": "5h5RBskkobWL",
    "outputId": "556af831-02e0-409d-bec0-507d6e6f75f9"
   },
   "outputs": [
    {
     "data": {
      "text/html": [
       "<div>\n",
       "<style scoped>\n",
       "    .dataframe tbody tr th:only-of-type {\n",
       "        vertical-align: middle;\n",
       "    }\n",
       "\n",
       "    .dataframe tbody tr th {\n",
       "        vertical-align: top;\n",
       "    }\n",
       "\n",
       "    .dataframe thead th {\n",
       "        text-align: right;\n",
       "    }\n",
       "</style>\n",
       "<table border=\"1\" class=\"dataframe\">\n",
       "  <thead>\n",
       "    <tr style=\"text-align: right;\">\n",
       "      <th></th>\n",
       "      <th>Airline</th>\n",
       "      <th>Date_of_Journey</th>\n",
       "      <th>Source</th>\n",
       "      <th>Destination</th>\n",
       "      <th>Route</th>\n",
       "      <th>Dep_Time</th>\n",
       "      <th>Arrival_Time</th>\n",
       "      <th>Duration</th>\n",
       "      <th>Total_Stops</th>\n",
       "      <th>Additional_Info</th>\n",
       "      <th>Price</th>\n",
       "    </tr>\n",
       "  </thead>\n",
       "  <tbody>\n",
       "    <tr>\n",
       "      <th>10678</th>\n",
       "      <td>Air Asia</td>\n",
       "      <td>9/04/2019</td>\n",
       "      <td>Kolkata</td>\n",
       "      <td>Banglore</td>\n",
       "      <td>CCU → BLR</td>\n",
       "      <td>19:55</td>\n",
       "      <td>22:25</td>\n",
       "      <td>2h 30m</td>\n",
       "      <td>non-stop</td>\n",
       "      <td>No info</td>\n",
       "      <td>4107</td>\n",
       "    </tr>\n",
       "    <tr>\n",
       "      <th>10679</th>\n",
       "      <td>Air India</td>\n",
       "      <td>27/04/2019</td>\n",
       "      <td>Kolkata</td>\n",
       "      <td>Banglore</td>\n",
       "      <td>CCU → BLR</td>\n",
       "      <td>20:45</td>\n",
       "      <td>23:20</td>\n",
       "      <td>2h 35m</td>\n",
       "      <td>non-stop</td>\n",
       "      <td>No info</td>\n",
       "      <td>4145</td>\n",
       "    </tr>\n",
       "    <tr>\n",
       "      <th>10680</th>\n",
       "      <td>Jet Airways</td>\n",
       "      <td>27/04/2019</td>\n",
       "      <td>Banglore</td>\n",
       "      <td>Delhi</td>\n",
       "      <td>BLR → DEL</td>\n",
       "      <td>08:20</td>\n",
       "      <td>11:20</td>\n",
       "      <td>3h</td>\n",
       "      <td>non-stop</td>\n",
       "      <td>No info</td>\n",
       "      <td>7229</td>\n",
       "    </tr>\n",
       "    <tr>\n",
       "      <th>10681</th>\n",
       "      <td>Vistara</td>\n",
       "      <td>01/03/2019</td>\n",
       "      <td>Banglore</td>\n",
       "      <td>New Delhi</td>\n",
       "      <td>BLR → DEL</td>\n",
       "      <td>11:30</td>\n",
       "      <td>14:10</td>\n",
       "      <td>2h 40m</td>\n",
       "      <td>non-stop</td>\n",
       "      <td>No info</td>\n",
       "      <td>12648</td>\n",
       "    </tr>\n",
       "    <tr>\n",
       "      <th>10682</th>\n",
       "      <td>Air India</td>\n",
       "      <td>9/05/2019</td>\n",
       "      <td>Delhi</td>\n",
       "      <td>Cochin</td>\n",
       "      <td>DEL → GOI → BOM → COK</td>\n",
       "      <td>10:55</td>\n",
       "      <td>19:15</td>\n",
       "      <td>8h 20m</td>\n",
       "      <td>2 stops</td>\n",
       "      <td>No info</td>\n",
       "      <td>11753</td>\n",
       "    </tr>\n",
       "  </tbody>\n",
       "</table>\n",
       "</div>"
      ],
      "text/plain": [
       "           Airline Date_of_Journey    Source Destination  \\\n",
       "10678     Air Asia       9/04/2019   Kolkata    Banglore   \n",
       "10679    Air India      27/04/2019   Kolkata    Banglore   \n",
       "10680  Jet Airways      27/04/2019  Banglore       Delhi   \n",
       "10681      Vistara      01/03/2019  Banglore   New Delhi   \n",
       "10682    Air India       9/05/2019     Delhi      Cochin   \n",
       "\n",
       "                       Route Dep_Time Arrival_Time Duration Total_Stops  \\\n",
       "10678              CCU → BLR    19:55        22:25   2h 30m    non-stop   \n",
       "10679              CCU → BLR    20:45        23:20   2h 35m    non-stop   \n",
       "10680              BLR → DEL    08:20        11:20       3h    non-stop   \n",
       "10681              BLR → DEL    11:30        14:10   2h 40m    non-stop   \n",
       "10682  DEL → GOI → BOM → COK    10:55        19:15   8h 20m     2 stops   \n",
       "\n",
       "      Additional_Info  Price  \n",
       "10678         No info   4107  \n",
       "10679         No info   4145  \n",
       "10680         No info   7229  \n",
       "10681         No info  12648  \n",
       "10682         No info  11753  "
      ]
     },
     "execution_count": 9,
     "metadata": {},
     "output_type": "execute_result"
    }
   ],
   "source": [
    "# checking bottom 5 rows\n",
    "df.tail()"
   ]
  },
  {
   "cell_type": "code",
   "execution_count": 10,
   "metadata": {
    "colab": {
     "base_uri": "https://localhost:8080/"
    },
    "executionInfo": {
     "elapsed": 14,
     "status": "ok",
     "timestamp": 1715531362265,
     "user": {
      "displayName": "TEJAS N",
      "userId": "11679441052771901128"
     },
     "user_tz": -330
    },
    "id": "Y1GVyLe6ovbO",
    "outputId": "1102ce38-8461-4ec4-bad5-40a80efae19a"
   },
   "outputs": [
    {
     "data": {
      "text/plain": [
       "(10683, 11)"
      ]
     },
     "execution_count": 10,
     "metadata": {},
     "output_type": "execute_result"
    }
   ],
   "source": [
    "# checking shape\n",
    "df.shape"
   ]
  },
  {
   "cell_type": "code",
   "execution_count": 11,
   "metadata": {
    "colab": {
     "base_uri": "https://localhost:8080/",
     "height": 81
    },
    "executionInfo": {
     "elapsed": 22,
     "status": "ok",
     "timestamp": 1715531374710,
     "user": {
      "displayName": "TEJAS N",
      "userId": "11679441052771901128"
     },
     "user_tz": -330
    },
    "id": "vv7UTNTQozxl",
    "outputId": "a6c3797b-27d0-4aea-9049-ef15206854e5"
   },
   "outputs": [
    {
     "data": {
      "text/html": [
       "<div>\n",
       "<style scoped>\n",
       "    .dataframe tbody tr th:only-of-type {\n",
       "        vertical-align: middle;\n",
       "    }\n",
       "\n",
       "    .dataframe tbody tr th {\n",
       "        vertical-align: top;\n",
       "    }\n",
       "\n",
       "    .dataframe thead th {\n",
       "        text-align: right;\n",
       "    }\n",
       "</style>\n",
       "<table border=\"1\" class=\"dataframe\">\n",
       "  <thead>\n",
       "    <tr style=\"text-align: right;\">\n",
       "      <th></th>\n",
       "      <th>count</th>\n",
       "      <th>mean</th>\n",
       "      <th>std</th>\n",
       "      <th>min</th>\n",
       "      <th>25%</th>\n",
       "      <th>50%</th>\n",
       "      <th>75%</th>\n",
       "      <th>max</th>\n",
       "    </tr>\n",
       "  </thead>\n",
       "  <tbody>\n",
       "    <tr>\n",
       "      <th>Price</th>\n",
       "      <td>10683.0</td>\n",
       "      <td>9087.064121</td>\n",
       "      <td>4611.359167</td>\n",
       "      <td>1759.0</td>\n",
       "      <td>5277.0</td>\n",
       "      <td>8372.0</td>\n",
       "      <td>12373.0</td>\n",
       "      <td>79512.0</td>\n",
       "    </tr>\n",
       "  </tbody>\n",
       "</table>\n",
       "</div>"
      ],
      "text/plain": [
       "         count         mean          std     min     25%     50%      75%  \\\n",
       "Price  10683.0  9087.064121  4611.359167  1759.0  5277.0  8372.0  12373.0   \n",
       "\n",
       "           max  \n",
       "Price  79512.0  "
      ]
     },
     "execution_count": 11,
     "metadata": {},
     "output_type": "execute_result"
    }
   ],
   "source": [
    "df.describe().T # checking descriptive statistics"
   ]
  },
  {
   "cell_type": "code",
   "execution_count": 12,
   "metadata": {
    "colab": {
     "base_uri": "https://localhost:8080/",
     "height": 175
    },
    "executionInfo": {
     "elapsed": 715,
     "status": "ok",
     "timestamp": 1715531385370,
     "user": {
      "displayName": "TEJAS N",
      "userId": "11679441052771901128"
     },
     "user_tz": -330
    },
    "id": "84lCaP1Ho2_G",
    "outputId": "af2baf34-20e0-4271-b449-ce682cc1edc7"
   },
   "outputs": [
    {
     "data": {
      "text/html": [
       "<div>\n",
       "<style scoped>\n",
       "    .dataframe tbody tr th:only-of-type {\n",
       "        vertical-align: middle;\n",
       "    }\n",
       "\n",
       "    .dataframe tbody tr th {\n",
       "        vertical-align: top;\n",
       "    }\n",
       "\n",
       "    .dataframe thead th {\n",
       "        text-align: right;\n",
       "    }\n",
       "</style>\n",
       "<table border=\"1\" class=\"dataframe\">\n",
       "  <thead>\n",
       "    <tr style=\"text-align: right;\">\n",
       "      <th></th>\n",
       "      <th>Airline</th>\n",
       "      <th>Date_of_Journey</th>\n",
       "      <th>Source</th>\n",
       "      <th>Destination</th>\n",
       "      <th>Route</th>\n",
       "      <th>Dep_Time</th>\n",
       "      <th>Arrival_Time</th>\n",
       "      <th>Duration</th>\n",
       "      <th>Total_Stops</th>\n",
       "      <th>Additional_Info</th>\n",
       "    </tr>\n",
       "  </thead>\n",
       "  <tbody>\n",
       "    <tr>\n",
       "      <th>count</th>\n",
       "      <td>10683</td>\n",
       "      <td>10683</td>\n",
       "      <td>10683</td>\n",
       "      <td>10683</td>\n",
       "      <td>10682</td>\n",
       "      <td>10683</td>\n",
       "      <td>10683</td>\n",
       "      <td>10683</td>\n",
       "      <td>10682</td>\n",
       "      <td>10683</td>\n",
       "    </tr>\n",
       "    <tr>\n",
       "      <th>unique</th>\n",
       "      <td>12</td>\n",
       "      <td>44</td>\n",
       "      <td>5</td>\n",
       "      <td>6</td>\n",
       "      <td>128</td>\n",
       "      <td>222</td>\n",
       "      <td>1343</td>\n",
       "      <td>368</td>\n",
       "      <td>5</td>\n",
       "      <td>10</td>\n",
       "    </tr>\n",
       "    <tr>\n",
       "      <th>top</th>\n",
       "      <td>Jet Airways</td>\n",
       "      <td>18/05/2019</td>\n",
       "      <td>Delhi</td>\n",
       "      <td>Cochin</td>\n",
       "      <td>DEL → BOM → COK</td>\n",
       "      <td>18:55</td>\n",
       "      <td>19:00</td>\n",
       "      <td>2h 50m</td>\n",
       "      <td>1 stop</td>\n",
       "      <td>No info</td>\n",
       "    </tr>\n",
       "    <tr>\n",
       "      <th>freq</th>\n",
       "      <td>3849</td>\n",
       "      <td>504</td>\n",
       "      <td>4537</td>\n",
       "      <td>4537</td>\n",
       "      <td>2376</td>\n",
       "      <td>233</td>\n",
       "      <td>423</td>\n",
       "      <td>550</td>\n",
       "      <td>5625</td>\n",
       "      <td>8345</td>\n",
       "    </tr>\n",
       "  </tbody>\n",
       "</table>\n",
       "</div>"
      ],
      "text/plain": [
       "            Airline Date_of_Journey Source Destination            Route  \\\n",
       "count         10683           10683  10683       10683            10682   \n",
       "unique           12              44      5           6              128   \n",
       "top     Jet Airways      18/05/2019  Delhi      Cochin  DEL → BOM → COK   \n",
       "freq           3849             504   4537        4537             2376   \n",
       "\n",
       "       Dep_Time Arrival_Time Duration Total_Stops Additional_Info  \n",
       "count     10683        10683    10683       10682           10683  \n",
       "unique      222         1343      368           5              10  \n",
       "top       18:55        19:00   2h 50m      1 stop         No info  \n",
       "freq        233          423      550        5625            8345  "
      ]
     },
     "execution_count": 12,
     "metadata": {},
     "output_type": "execute_result"
    }
   ],
   "source": [
    "# Checking descriptive statistics for object columns\n",
    "df.describe(include=\"object\")"
   ]
  },
  {
   "cell_type": "markdown",
   "metadata": {
    "id": "OWroTPUJo7mw"
   },
   "source": [
    "#### Insights\n",
    "\n",
    "- **Total Records:** 10,683\n",
    "- **Unique Airlines:** 12\n",
    "  - The most frequent airline is Jet Airways with 3,849 occurrences.\n",
    "- **Unique Dates of Journey:** 44\n",
    "  - The most common date is 18/05/2019 with 504 occurrences.\n",
    "- **Unique Source Locations:** 5\n",
    "  - The most frequent source is Delhi with 4,537 occurrences.\n",
    "- **Unique Destination Locations:** 6\n",
    "  - The most common destination is Cochin with 4,537 occurrences.\n",
    "- **Unique Routes:** 128\n",
    "  - The most common route is DEL → BOM → COK with 2,376 occurrences.\n",
    "- **Unique Departure Times:** 222\n",
    "  - The most common departure time is 18:55 with 233 occurrences.\n",
    "- **Unique Arrival Times:** 1343\n",
    "  - The most common arrival time is 19:00 with 423 occurrences.\n",
    "- **Unique Durations:** 368\n",
    "  - The most common duration is 2h 50m with 550 occurrences.\n",
    "- **Unique Total Stops:** 5\n",
    "  - The most common number of stops is 1 stop with 5,625 occurrences.\n",
    "- **Unique Additional Info:** 10\n",
    "  - The most common additional info is \"No info\" with 8,345 occurrences.\n"
   ]
  },
  {
   "cell_type": "code",
   "execution_count": 13,
   "metadata": {
    "colab": {
     "base_uri": "https://localhost:8080/"
    },
    "executionInfo": {
     "elapsed": 12,
     "status": "ok",
     "timestamp": 1715531415218,
     "user": {
      "displayName": "TEJAS N",
      "userId": "11679441052771901128"
     },
     "user_tz": -330
    },
    "id": "6bwTbg_Ro5U2",
    "outputId": "ad72866d-de2a-46e0-ec4a-6878d58ebe3d"
   },
   "outputs": [
    {
     "data": {
      "text/plain": [
       "220"
      ]
     },
     "execution_count": 13,
     "metadata": {},
     "output_type": "execute_result"
    }
   ],
   "source": [
    "# Checking duplicates\n",
    "df.duplicated().sum()"
   ]
  },
  {
   "cell_type": "code",
   "execution_count": 6,
   "metadata": {
    "executionInfo": {
     "elapsed": 523,
     "status": "ok",
     "timestamp": 1715531425643,
     "user": {
      "displayName": "TEJAS N",
      "userId": "11679441052771901128"
     },
     "user_tz": -330
    },
    "id": "9BfVm7abpATT"
   },
   "outputs": [],
   "source": [
    "# Removing duplicates records\n",
    "df.drop_duplicates(inplace=True)"
   ]
  },
  {
   "cell_type": "code",
   "execution_count": 15,
   "metadata": {
    "colab": {
     "base_uri": "https://localhost:8080/"
    },
    "executionInfo": {
     "elapsed": 12,
     "status": "ok",
     "timestamp": 1715531437188,
     "user": {
      "displayName": "TEJAS N",
      "userId": "11679441052771901128"
     },
     "user_tz": -330
    },
    "id": "iTMvPUzRpDF2",
    "outputId": "46bb83d0-8e46-4a65-ffd7-31cb022ee87f"
   },
   "outputs": [
    {
     "data": {
      "text/plain": [
       "0"
      ]
     },
     "execution_count": 15,
     "metadata": {},
     "output_type": "execute_result"
    }
   ],
   "source": [
    "# Verifying changes\n",
    "df.duplicated().sum()"
   ]
  },
  {
   "cell_type": "code",
   "execution_count": 16,
   "metadata": {
    "colab": {
     "base_uri": "https://localhost:8080/"
    },
    "executionInfo": {
     "elapsed": 544,
     "status": "ok",
     "timestamp": 1715531449771,
     "user": {
      "displayName": "TEJAS N",
      "userId": "11679441052771901128"
     },
     "user_tz": -330
    },
    "id": "xzTJufhDpFuL",
    "outputId": "1cabc53f-3c4d-4de4-fed4-fc32d177c2d2"
   },
   "outputs": [
    {
     "data": {
      "text/plain": [
       "Airline            0\n",
       "Date_of_Journey    0\n",
       "Source             0\n",
       "Destination        0\n",
       "Route              1\n",
       "Dep_Time           0\n",
       "Arrival_Time       0\n",
       "Duration           0\n",
       "Total_Stops        1\n",
       "Additional_Info    0\n",
       "Price              0\n",
       "dtype: int64"
      ]
     },
     "execution_count": 16,
     "metadata": {},
     "output_type": "execute_result"
    }
   ],
   "source": [
    "# Checking null values\n",
    "df.isnull().sum()"
   ]
  },
  {
   "cell_type": "code",
   "execution_count": 7,
   "metadata": {
    "executionInfo": {
     "elapsed": 8,
     "status": "ok",
     "timestamp": 1715531482063,
     "user": {
      "displayName": "TEJAS N",
      "userId": "11679441052771901128"
     },
     "user_tz": -330
    },
    "id": "TugPNtthpPuQ"
   },
   "outputs": [],
   "source": [
    "# Removing null values\n",
    "df.dropna(inplace=True)"
   ]
  },
  {
   "cell_type": "code",
   "execution_count": 18,
   "metadata": {
    "colab": {
     "base_uri": "https://localhost:8080/"
    },
    "executionInfo": {
     "elapsed": 8,
     "status": "ok",
     "timestamp": 1715531489786,
     "user": {
      "displayName": "TEJAS N",
      "userId": "11679441052771901128"
     },
     "user_tz": -330
    },
    "id": "gR1hc7aQpQss",
    "outputId": "70028a6f-bf38-4c9a-e8ac-3c1b33a844c5"
   },
   "outputs": [
    {
     "data": {
      "text/plain": [
       "(10462, 11)"
      ]
     },
     "execution_count": 18,
     "metadata": {},
     "output_type": "execute_result"
    }
   ],
   "source": [
    "# Rechecking datashape after removing nulls and duplicates\n",
    "df.shape"
   ]
  },
  {
   "cell_type": "code",
   "execution_count": 19,
   "metadata": {
    "colab": {
     "base_uri": "https://localhost:8080/"
    },
    "executionInfo": {
     "elapsed": 10,
     "status": "ok",
     "timestamp": 1715531683690,
     "user": {
      "displayName": "TEJAS N",
      "userId": "11679441052771901128"
     },
     "user_tz": -330
    },
    "id": "ylv1emSNpSet",
    "outputId": "cbebe102-784c-4f8f-b335-17f0c4f3ab86"
   },
   "outputs": [
    {
     "data": {
      "text/plain": [
       "Airline            object\n",
       "Date_of_Journey    object\n",
       "Source             object\n",
       "Destination        object\n",
       "Route              object\n",
       "Dep_Time           object\n",
       "Arrival_Time       object\n",
       "Duration           object\n",
       "Total_Stops        object\n",
       "Additional_Info    object\n",
       "Price               int64\n",
       "dtype: object"
      ]
     },
     "execution_count": 19,
     "metadata": {},
     "output_type": "execute_result"
    }
   ],
   "source": [
    "df.dtypes"
   ]
  },
  {
   "cell_type": "code",
   "execution_count": 8,
   "metadata": {
    "colab": {
     "base_uri": "https://localhost:8080/"
    },
    "executionInfo": {
     "elapsed": 10,
     "status": "ok",
     "timestamp": 1715531697070,
     "user": {
      "displayName": "TEJAS N",
      "userId": "11679441052771901128"
     },
     "user_tz": -330
    },
    "id": "_CWRBynDqCE7",
    "outputId": "a05f205f-79eb-4b5a-cb67-e9b2eea783bf"
   },
   "outputs": [
    {
     "name": "stdout",
     "output_type": "stream",
     "text": [
      "  Date_of_Journey  Journey_Date  Journey_Month  Journey_Year\n",
      "0      2019-03-24            24              3          2019\n",
      "1      2019-05-01             1              5          2019\n",
      "2      2019-06-09             9              6          2019\n",
      "3      2019-05-12            12              5          2019\n",
      "4      2019-03-01             1              3          2019\n"
     ]
    }
   ],
   "source": [
    "# Convert 'Date_of_Journey' column to datetime format\n",
    "df['Date_of_Journey'] = pd.to_datetime(df['Date_of_Journey'], format='%d/%m/%Y')\n",
    "\n",
    "# Extract date, month, and year into separate columns\n",
    "df['Journey_Date'] = df['Date_of_Journey'].dt.day\n",
    "df['Journey_Month'] = df['Date_of_Journey'].dt.month\n",
    "df['Journey_Year'] = df['Date_of_Journey'].dt.year\n",
    "\n",
    "# Display the DataFrame with the new columns\n",
    "print(df[['Date_of_Journey', 'Journey_Date', 'Journey_Month', 'Journey_Year']].head())"
   ]
  },
  {
   "cell_type": "code",
   "execution_count": 9,
   "metadata": {
    "executionInfo": {
     "elapsed": 9,
     "status": "ok",
     "timestamp": 1715531712745,
     "user": {
      "displayName": "TEJAS N",
      "userId": "11679441052771901128"
     },
     "user_tz": -330
    },
    "id": "m2vcZa5aqFf5"
   },
   "outputs": [],
   "source": [
    "# Drop the original 'Date_of_Journey' column\n",
    "df.drop('Date_of_Journey', axis=1, inplace=True)"
   ]
  },
  {
   "cell_type": "markdown",
   "metadata": {
    "id": "veRGtLG3qM2y"
   },
   "source": [
    "#### Perform Exploratory Data Analysis (EDA) tasks\n",
    "    \n",
    "a) Which airline is most preferred airline\n",
    "    \n",
    "c) Find the majority of the flights take off from which source\n",
    "    \n",
    "d) Find maximum flights land in which destination"
   ]
  },
  {
   "cell_type": "code",
   "execution_count": 22,
   "metadata": {
    "colab": {
     "base_uri": "https://localhost:8080/",
     "height": 607
    },
    "executionInfo": {
     "elapsed": 1499,
     "status": "ok",
     "timestamp": 1715531770772,
     "user": {
      "displayName": "TEJAS N",
      "userId": "11679441052771901128"
     },
     "user_tz": -330
    },
    "id": "RiSP7YziqKgw",
    "outputId": "af073370-87eb-4d66-b88a-b0032f90b80c"
   },
   "outputs": [
    {
     "data": {
      "image/png": "[encoded data removed]",
      "text/plain": [
       "<Figure size 1000x600 with 1 Axes>"
      ]
     },
     "metadata": {},
     "output_type": "display_data"
    }
   ],
   "source": [
    "# Create a countplot for the 'Airline' column\n",
    "plt.figure(figsize=(10, 6))\n",
    "sns.countplot(data=df, x='Airline', order=df['Airline'].value_counts().index)\n",
    "plt.title('Frequency of Each Airline')\n",
    "plt.xlabel('Airline')\n",
    "plt.ylabel('Frequency')\n",
    "plt.xticks(rotation=90)  # Rotate x-axis labels for better readability\n",
    "plt.tight_layout()\n",
    "plt.show()\n"
   ]
  },
  {
   "cell_type": "markdown",
   "metadata": {
    "id": "-w1-Wg_LqcLD"
   },
   "source": [
    "<font color=\"green\"><b> Jet Airways is the most preferred airline. </b>"
   ]
  },
  {
   "cell_type": "markdown",
   "metadata": {
    "id": "ktvN9B-7qe1O"
   },
   "source": [
    "<b>Finding the majority of the flights take off from which source"
   ]
  },
  {
   "cell_type": "code",
   "execution_count": 23,
   "metadata": {
    "colab": {
     "base_uri": "https://localhost:8080/",
     "height": 607
    },
    "executionInfo": {
     "elapsed": 1423,
     "status": "ok",
     "timestamp": 1715531814050,
     "user": {
      "displayName": "TEJAS N",
      "userId": "11679441052771901128"
     },
     "user_tz": -330
    },
    "id": "imG9wA9MqWE9",
    "outputId": "efc0d250-a4d9-4880-ae18-78388765c254"
   },
   "outputs": [
    {
     "data": {
      "image/png": "[encoded data removed]",
      "text/plain": [
       "<Figure size 800x600 with 1 Axes>"
      ]
     },
     "metadata": {},
     "output_type": "display_data"
    }
   ],
   "source": [
    "# Create a countplot for the 'Source' column\n",
    "plt.figure(figsize=(8, 6))\n",
    "sns.countplot(data=df, x='Source', order=df['Source'].value_counts().index)\n",
    "plt.title('Distribution of Flights Taking Off from Different Sources')\n",
    "plt.xlabel('Source')\n",
    "plt.ylabel('Number of Flights')\n",
    "plt.xticks(rotation=45)  # Rotate x-axis labels for better readability\n",
    "plt.tight_layout()\n",
    "plt.show()\n"
   ]
  },
  {
   "cell_type": "markdown",
   "metadata": {
    "id": "D8FWoVk0ql07"
   },
   "source": [
    "<font color=\"green\"><b> Majority of flights originate from the 'Delhi' source."
   ]
  },
  {
   "cell_type": "markdown",
   "metadata": {
    "id": "VmPOsgvYqru3"
   },
   "source": [
    "<b>Finding maximum flights land in which destination"
   ]
  },
  {
   "cell_type": "code",
   "execution_count": 24,
   "metadata": {
    "colab": {
     "base_uri": "https://localhost:8080/",
     "height": 607
    },
    "executionInfo": {
     "elapsed": 2085,
     "status": "ok",
     "timestamp": 1715531867481,
     "user": {
      "displayName": "TEJAS N",
      "userId": "11679441052771901128"
     },
     "user_tz": -330
    },
    "id": "JE1cbKokqgrE",
    "outputId": "0e0301d8-693c-4032-842c-ffd25ed7ebc9"
   },
   "outputs": [
    {
     "data": {
      "image/png": "[encoded data removed]",
      "text/plain": [
       "<Figure size 800x600 with 1 Axes>"
      ]
     },
     "metadata": {},
     "output_type": "display_data"
    }
   ],
   "source": [
    "# Create a countplot for the 'Destination' column\n",
    "plt.figure(figsize=(8, 6))\n",
    "sns.countplot(data=df, x='Destination', order=df['Destination'].value_counts().index)\n",
    "plt.title('Distribution of Flights Landing in Different Destinations')\n",
    "plt.xlabel('Destination')\n",
    "plt.ylabel('Number of Flights')\n",
    "plt.xticks(rotation=45)  # Rotate x-axis labels for better readability\n",
    "plt.tight_layout()\n",
    "plt.show()\n"
   ]
  },
  {
   "cell_type": "markdown",
   "metadata": {
    "id": "LtPOv8AWqxmm"
   },
   "source": [
    "<b>Maximum Flights land in Cochin</b>"
   ]
  },
  {
   "cell_type": "markdown",
   "metadata": {
    "id": "dk9ruw-aq1W_"
   },
   "source": [
    "<font color=\"blue\"><b>Q3 Comparing independent features with Target feature to check the impact on price\n"
   ]
  },
  {
   "cell_type": "markdown",
   "metadata": {
    "id": "WLoBCvtGq4du"
   },
   "source": [
    "<b>a) Which airline has the highest price"
   ]
  },
  {
   "cell_type": "code",
   "execution_count": 10,
   "metadata": {
    "colab": {
     "base_uri": "https://localhost:8080/"
    },
    "executionInfo": {
     "elapsed": 610,
     "status": "ok",
     "timestamp": 1715532016061,
     "user": {
      "displayName": "TEJAS N",
      "userId": "11679441052771901128"
     },
     "user_tz": -330
    },
    "id": "egwRZqMMqtjY",
    "outputId": "f38bb650-493a-4bc8-c203-5e8d6d2d3300"
   },
   "outputs": [
    {
     "name": "stdout",
     "output_type": "stream",
     "text": [
      "The airline with the highest price is: Jet Airways Business\n",
      "The highest price is: 79512\n"
     ]
    }
   ],
   "source": [
    "# Find the row with the highest price\n",
    "max_price_row = df.loc[df['Price'].idxmax()]\n",
    "\n",
    "# Extract the airline with the highest price\n",
    "airline_highest_price = max_price_row['Airline']\n",
    "\n",
    "# Extract the highest price\n",
    "highest_price = max_price_row['Price']\n",
    "\n",
    "# Display the airline with the highest price and the price itself\n",
    "print(\"The airline with the highest price is:\", airline_highest_price)\n",
    "print(\"The highest price is:\", highest_price)\n"
   ]
  },
  {
   "cell_type": "markdown",
   "metadata": {
    "id": "8zDVykHwrWFt"
   },
   "source": [
    "<b>b) Checking if the business class flights are high price or low and find\n",
    "only those flights which price is higher than 50k"
   ]
  },
  {
   "cell_type": "code",
   "execution_count": 11,
   "metadata": {
    "colab": {
     "base_uri": "https://localhost:8080/",
     "height": 195
    },
    "executionInfo": {
     "elapsed": 489,
     "status": "ok",
     "timestamp": 1715532037897,
     "user": {
      "displayName": "TEJAS N",
      "userId": "11679441052771901128"
     },
     "user_tz": -330
    },
    "id": "dCoJGQYIrSLz",
    "outputId": "b5667c5f-1124-40f1-fb1b-334491fbbf42"
   },
   "outputs": [
    {
     "data": {
      "text/html": [
       "<div>\n",
       "<style scoped>\n",
       "    .dataframe tbody tr th:only-of-type {\n",
       "        vertical-align: middle;\n",
       "    }\n",
       "\n",
       "    .dataframe tbody tr th {\n",
       "        vertical-align: top;\n",
       "    }\n",
       "\n",
       "    .dataframe thead th {\n",
       "        text-align: right;\n",
       "    }\n",
       "</style>\n",
       "<table border=\"1\" class=\"dataframe\">\n",
       "  <thead>\n",
       "    <tr style=\"text-align: right;\">\n",
       "      <th></th>\n",
       "      <th>Airline</th>\n",
       "      <th>Source</th>\n",
       "      <th>Destination</th>\n",
       "      <th>Route</th>\n",
       "      <th>Dep_Time</th>\n",
       "      <th>Arrival_Time</th>\n",
       "      <th>Duration</th>\n",
       "      <th>Total_Stops</th>\n",
       "      <th>Additional_Info</th>\n",
       "      <th>Price</th>\n",
       "      <th>Journey_Date</th>\n",
       "      <th>Journey_Month</th>\n",
       "      <th>Journey_Year</th>\n",
       "    </tr>\n",
       "  </thead>\n",
       "  <tbody>\n",
       "    <tr>\n",
       "      <th>2924</th>\n",
       "      <td>Jet Airways Business</td>\n",
       "      <td>Banglore</td>\n",
       "      <td>New Delhi</td>\n",
       "      <td>BLR → BOM → DEL</td>\n",
       "      <td>05:45</td>\n",
       "      <td>11:25</td>\n",
       "      <td>5h 40m</td>\n",
       "      <td>1 stop</td>\n",
       "      <td>Business class</td>\n",
       "      <td>79512</td>\n",
       "      <td>1</td>\n",
       "      <td>3</td>\n",
       "      <td>2019</td>\n",
       "    </tr>\n",
       "    <tr>\n",
       "      <th>5372</th>\n",
       "      <td>Jet Airways Business</td>\n",
       "      <td>Banglore</td>\n",
       "      <td>New Delhi</td>\n",
       "      <td>BLR → BOM → DEL</td>\n",
       "      <td>05:45</td>\n",
       "      <td>12:25</td>\n",
       "      <td>6h 40m</td>\n",
       "      <td>1 stop</td>\n",
       "      <td>Business class</td>\n",
       "      <td>62427</td>\n",
       "      <td>1</td>\n",
       "      <td>3</td>\n",
       "      <td>2019</td>\n",
       "    </tr>\n",
       "    <tr>\n",
       "      <th>10364</th>\n",
       "      <td>Jet Airways Business</td>\n",
       "      <td>Banglore</td>\n",
       "      <td>New Delhi</td>\n",
       "      <td>BLR → MAA → DEL</td>\n",
       "      <td>09:45</td>\n",
       "      <td>14:25</td>\n",
       "      <td>4h 40m</td>\n",
       "      <td>1 stop</td>\n",
       "      <td>Business class</td>\n",
       "      <td>57209</td>\n",
       "      <td>1</td>\n",
       "      <td>3</td>\n",
       "      <td>2019</td>\n",
       "    </tr>\n",
       "  </tbody>\n",
       "</table>\n",
       "</div>"
      ],
      "text/plain": [
       "                    Airline    Source Destination            Route Dep_Time  \\\n",
       "2924   Jet Airways Business  Banglore   New Delhi  BLR → BOM → DEL    05:45   \n",
       "5372   Jet Airways Business  Banglore   New Delhi  BLR → BOM → DEL    05:45   \n",
       "10364  Jet Airways Business  Banglore   New Delhi  BLR → MAA → DEL    09:45   \n",
       "\n",
       "      Arrival_Time Duration Total_Stops Additional_Info  Price  Journey_Date  \\\n",
       "2924         11:25   5h 40m      1 stop  Business class  79512             1   \n",
       "5372         12:25   6h 40m      1 stop  Business class  62427             1   \n",
       "10364        14:25   4h 40m      1 stop  Business class  57209             1   \n",
       "\n",
       "       Journey_Month  Journey_Year  \n",
       "2924               3          2019  \n",
       "5372               3          2019  \n",
       "10364              3          2019  "
      ]
     },
     "execution_count": 11,
     "metadata": {},
     "output_type": "execute_result"
    }
   ],
   "source": [
    "# Filter the dataset for flights with prices higher than 50k and containing 'Business Class' in the 'Additional_Info'\n",
    "business_class_flights = df[(df['Price'] > 50000) & (df['Additional_Info'].str.contains('Business Class', case=False, na=False))]\n",
    "\n",
    "# Display the filtered flights\n",
    "business_class_flights\n"
   ]
  },
  {
   "cell_type": "code",
   "execution_count": 27,
   "metadata": {
    "colab": {
     "base_uri": "https://localhost:8080/"
    },
    "executionInfo": {
     "elapsed": 11,
     "status": "ok",
     "timestamp": 1715532052941,
     "user": {
      "displayName": "TEJAS N",
      "userId": "11679441052771901128"
     },
     "user_tz": -330
    },
    "id": "dvFwxMbDrXiF",
    "outputId": "339db79f-819e-470b-fc6b-22ff26975fa3"
   },
   "outputs": [
    {
     "name": "stdout",
     "output_type": "stream",
     "text": [
      "<class 'pandas.core.frame.DataFrame'>\n",
      "Index: 10462 entries, 0 to 10682\n",
      "Data columns (total 13 columns):\n",
      " #   Column           Non-Null Count  Dtype \n",
      "---  ------           --------------  ----- \n",
      " 0   Airline          10462 non-null  object\n",
      " 1   Source           10462 non-null  object\n",
      " 2   Destination      10462 non-null  object\n",
      " 3   Route            10462 non-null  object\n",
      " 4   Dep_Time         10462 non-null  object\n",
      " 5   Arrival_Time     10462 non-null  object\n",
      " 6   Duration         10462 non-null  object\n",
      " 7   Total_Stops      10462 non-null  object\n",
      " 8   Additional_Info  10462 non-null  object\n",
      " 9   Price            10462 non-null  int64 \n",
      " 10  Journey_Date     10462 non-null  int32 \n",
      " 11  Journey_Month    10462 non-null  int32 \n",
      " 12  Journey_Year     10462 non-null  int32 \n",
      "dtypes: int32(3), int64(1), object(9)\n",
      "memory usage: 1.2+ MB\n"
     ]
    }
   ],
   "source": [
    "df.info()"
   ]
  },
  {
   "cell_type": "code",
   "execution_count": 12,
   "metadata": {
    "executionInfo": {
     "elapsed": 456,
     "status": "ok",
     "timestamp": 1715532067378,
     "user": {
      "displayName": "TEJAS N",
      "userId": "11679441052771901128"
     },
     "user_tz": -330
    },
    "id": "0Pd1CV7QrbVe"
   },
   "outputs": [],
   "source": [
    "df['Dep_Time'] = pd.to_datetime(df['Dep_Time'])\n",
    "df['Arrival_Time'] = pd.to_datetime(df['Arrival_Time'])\n",
    "\n",
    "df['Dep_Hour'] = df['Dep_Time'].dt.hour\n",
    "df['Dep_Minutes'] = df['Dep_Time'].dt.minute\n",
    "\n",
    "df['Arrival_Hour'] = df.Arrival_Time.dt.hour\n",
    "df['Arrival_Minutes'] = df.Arrival_Time.dt.minute\n",
    "dur = []\n",
    "for rec in df['Duration']:\n",
    "    if len(rec.split()) != 2:\n",
    "        if 'h' in rec:\n",
    "            dur.append(rec.strip() + ' 0m')\n",
    "        else:\n",
    "            dur.append('0h ' + rec.strip())\n",
    "    else:\n",
    "        dur.append(rec.strip())\n",
    "\n",
    "Duration_hours = []\n",
    "Duration_mins = []\n",
    "for i in dur:\n",
    "    Duration_hours.append(int(i.split('h')[0]))\n",
    "    Duration_mins.append(int(i.split('m')[0].split()[1]))\n",
    "\n",
    "df['Duration_hours'] = Duration_hours\n",
    "df['Duration_mins'] = Duration_mins\n",
    "\n",
    "# Dropping unnecessary columns\n",
    "df = df.drop(['Dep_Time', 'Arrival_Time', 'Duration'], axis=1)\n"
   ]
  },
  {
   "cell_type": "code",
   "execution_count": 29,
   "metadata": {
    "colab": {
     "base_uri": "https://localhost:8080/"
    },
    "executionInfo": {
     "elapsed": 10,
     "status": "ok",
     "timestamp": 1715532078512,
     "user": {
      "displayName": "TEJAS N",
      "userId": "11679441052771901128"
     },
     "user_tz": -330
    },
    "id": "hXo7e7wtre2c",
    "outputId": "aee56f85-e900-4884-a269-04c93bf318e1"
   },
   "outputs": [
    {
     "data": {
      "text/plain": [
       "Additional_Info\n",
       "No info                         8182\n",
       "In-flight meal not included     1926\n",
       "No check-in baggage included     318\n",
       "1 Long layover                    19\n",
       "Change airports                    7\n",
       "Business class                     4\n",
       "No Info                            3\n",
       "1 Short layover                    1\n",
       "Red-eye flight                     1\n",
       "2 Long layover                     1\n",
       "Name: count, dtype: int64"
      ]
     },
     "execution_count": 29,
     "metadata": {},
     "output_type": "execute_result"
    }
   ],
   "source": [
    "df[\"Additional_Info\"].value_counts() # most of the records has no_info"
   ]
  },
  {
   "cell_type": "code",
   "execution_count": 30,
   "metadata": {
    "colab": {
     "base_uri": "https://localhost:8080/"
    },
    "executionInfo": {
     "elapsed": 6,
     "status": "ok",
     "timestamp": 1715532092583,
     "user": {
      "displayName": "TEJAS N",
      "userId": "11679441052771901128"
     },
     "user_tz": -330
    },
    "id": "0kZp8qE7rhgS",
    "outputId": "734b1e4b-424f-4920-8042-b62467843d1f"
   },
   "outputs": [
    {
     "data": {
      "text/plain": [
       "Route\n",
       "DEL → BOM → COK          2376\n",
       "BLR → DEL                1536\n",
       "CCU → BOM → BLR           979\n",
       "CCU → BLR                 724\n",
       "BOM → HYD                 621\n",
       "                         ... \n",
       "CCU → VTZ → BLR             1\n",
       "CCU → IXZ → MAA → BLR       1\n",
       "BOM → COK → MAA → HYD       1\n",
       "BOM → CCU → HYD             1\n",
       "BOM → BBI → HYD             1\n",
       "Name: count, Length: 128, dtype: int64"
      ]
     },
     "execution_count": 30,
     "metadata": {},
     "output_type": "execute_result"
    }
   ],
   "source": [
    "df[\"Route\"].value_counts() # not that informative as Total_Stops, Source, Destination  can compensate this column"
   ]
  },
  {
   "cell_type": "code",
   "execution_count": 13,
   "metadata": {
    "executionInfo": {
     "elapsed": 454,
     "status": "ok",
     "timestamp": 1715532147843,
     "user": {
      "displayName": "TEJAS N",
      "userId": "11679441052771901128"
     },
     "user_tz": -330
    },
    "id": "oc_4-Q1urk9B"
   },
   "outputs": [],
   "source": [
    "# Dropping the non informative columns\n",
    "df = df.drop(['Route','Additional_Info'], axis = 1)"
   ]
  },
  {
   "cell_type": "code",
   "execution_count": 14,
   "metadata": {
    "executionInfo": {
     "elapsed": 434,
     "status": "ok",
     "timestamp": 1715532155967,
     "user": {
      "displayName": "TEJAS N",
      "userId": "11679441052771901128"
     },
     "user_tz": -330
    },
    "id": "9DwxItYIryaW"
   },
   "outputs": [],
   "source": [
    "# converting Total_Stops to numeric manually\n",
    "df['Total_Stops'].replace({'1 stop':1, '2 stops':2, '3 stops':3, '4 stops':4, 'non-stop':0}, inplace = True)"
   ]
  },
  {
   "cell_type": "code",
   "execution_count": 33,
   "metadata": {
    "colab": {
     "base_uri": "https://localhost:8080/"
    },
    "executionInfo": {
     "elapsed": 8,
     "status": "ok",
     "timestamp": 1715532163135,
     "user": {
      "displayName": "TEJAS N",
      "userId": "11679441052771901128"
     },
     "user_tz": -330
    },
    "id": "KSN7hYyWr0bw",
    "outputId": "59dc8cc2-c376-4848-bccf-dac9ac772b6a"
   },
   "outputs": [
    {
     "name": "stdout",
     "output_type": "stream",
     "text": [
      "<class 'pandas.core.frame.DataFrame'>\n",
      "Index: 10462 entries, 0 to 10682\n",
      "Data columns (total 14 columns):\n",
      " #   Column           Non-Null Count  Dtype \n",
      "---  ------           --------------  ----- \n",
      " 0   Airline          10462 non-null  object\n",
      " 1   Source           10462 non-null  object\n",
      " 2   Destination      10462 non-null  object\n",
      " 3   Total_Stops      10462 non-null  int64 \n",
      " 4   Price            10462 non-null  int64 \n",
      " 5   Journey_Date     10462 non-null  int32 \n",
      " 6   Journey_Month    10462 non-null  int32 \n",
      " 7   Journey_Year     10462 non-null  int32 \n",
      " 8   Dep_Hour         10462 non-null  int32 \n",
      " 9   Dep_Minutes      10462 non-null  int32 \n",
      " 10  Arrival_Hour     10462 non-null  int32 \n",
      " 11  Arrival_Minutes  10462 non-null  int32 \n",
      " 12  Duration_hours   10462 non-null  int64 \n",
      " 13  Duration_mins    10462 non-null  int64 \n",
      "dtypes: int32(7), int64(4), object(3)\n",
      "memory usage: 1.2+ MB\n"
     ]
    }
   ],
   "source": [
    "df.info() # Checking the data types"
   ]
  },
  {
   "cell_type": "markdown",
   "metadata": {
    "id": "acDLWyBir6WX"
   },
   "source": [
    "<font color=\"blue\"><b>Question 4:Perform encoding for the required features according to the data"
   ]
  },
  {
   "cell_type": "code",
   "execution_count": 15,
   "metadata": {
    "executionInfo": {
     "elapsed": 7,
     "status": "ok",
     "timestamp": 1715532186828,
     "user": {
      "displayName": "TEJAS N",
      "userId": "11679441052771901128"
     },
     "user_tz": -330
    },
    "id": "MZXg9lIQr2KU"
   },
   "outputs": [],
   "source": [
    "# Label Encoding Object columns\n",
    "# Library\n",
    "from sklearn.preprocessing import LabelEncoder\n",
    "\n",
    "le_Airline = LabelEncoder().fit(df.Airline)\n",
    "le_Source = LabelEncoder().fit(df.Source)\n",
    "le_Destination = LabelEncoder().fit(df.Destination)"
   ]
  },
  {
   "cell_type": "code",
   "execution_count": 16,
   "metadata": {
    "executionInfo": {
     "elapsed": 8,
     "status": "ok",
     "timestamp": 1715532193789,
     "user": {
      "displayName": "TEJAS N",
      "userId": "11679441052771901128"
     },
     "user_tz": -330
    },
    "id": "b6jxGxGmr8AE"
   },
   "outputs": [],
   "source": [
    "df.Airline = le_Airline.transform(df.Airline)\n",
    "df.Source = le_Source.transform(df.Source)\n",
    "df.Destination = le_Destination.transform(df.Destination)"
   ]
  },
  {
   "cell_type": "code",
   "execution_count": 36,
   "metadata": {
    "colab": {
     "base_uri": "https://localhost:8080/"
    },
    "executionInfo": {
     "elapsed": 447,
     "status": "ok",
     "timestamp": 1715532209458,
     "user": {
      "displayName": "TEJAS N",
      "userId": "11679441052771901128"
     },
     "user_tz": -330
    },
    "id": "665nx5E4r9uS",
    "outputId": "c127bf0b-1181-48e0-8646-34245e571bb8"
   },
   "outputs": [
    {
     "name": "stdout",
     "output_type": "stream",
     "text": [
      "<class 'pandas.core.frame.DataFrame'>\n",
      "Index: 10462 entries, 0 to 10682\n",
      "Data columns (total 14 columns):\n",
      " #   Column           Non-Null Count  Dtype\n",
      "---  ------           --------------  -----\n",
      " 0   Airline          10462 non-null  int32\n",
      " 1   Source           10462 non-null  int32\n",
      " 2   Destination      10462 non-null  int32\n",
      " 3   Total_Stops      10462 non-null  int64\n",
      " 4   Price            10462 non-null  int64\n",
      " 5   Journey_Date     10462 non-null  int32\n",
      " 6   Journey_Month    10462 non-null  int32\n",
      " 7   Journey_Year     10462 non-null  int32\n",
      " 8   Dep_Hour         10462 non-null  int32\n",
      " 9   Dep_Minutes      10462 non-null  int32\n",
      " 10  Arrival_Hour     10462 non-null  int32\n",
      " 11  Arrival_Minutes  10462 non-null  int32\n",
      " 12  Duration_hours   10462 non-null  int64\n",
      " 13  Duration_mins    10462 non-null  int64\n",
      "dtypes: int32(10), int64(4)\n",
      "memory usage: 1.1 MB\n"
     ]
    }
   ],
   "source": [
    "df.info()"
   ]
  },
  {
   "cell_type": "code",
   "execution_count": 17,
   "metadata": {
    "colab": {
     "base_uri": "https://localhost:8080/",
     "height": 226
    },
    "executionInfo": {
     "elapsed": 483,
     "status": "ok",
     "timestamp": 1715532244586,
     "user": {
      "displayName": "TEJAS N",
      "userId": "11679441052771901128"
     },
     "user_tz": -330
    },
    "id": "FIS4baGQsBdM",
    "outputId": "c8e023fb-7115-42e6-c823-72383692c287"
   },
   "outputs": [
    {
     "data": {
      "text/html": [
       "<div>\n",
       "<style scoped>\n",
       "    .dataframe tbody tr th:only-of-type {\n",
       "        vertical-align: middle;\n",
       "    }\n",
       "\n",
       "    .dataframe tbody tr th {\n",
       "        vertical-align: top;\n",
       "    }\n",
       "\n",
       "    .dataframe thead th {\n",
       "        text-align: right;\n",
       "    }\n",
       "</style>\n",
       "<table border=\"1\" class=\"dataframe\">\n",
       "  <thead>\n",
       "    <tr style=\"text-align: right;\">\n",
       "      <th></th>\n",
       "      <th>Airline</th>\n",
       "      <th>Source</th>\n",
       "      <th>Destination</th>\n",
       "      <th>Total_Stops</th>\n",
       "      <th>Price</th>\n",
       "      <th>Journey_Date</th>\n",
       "      <th>Journey_Month</th>\n",
       "      <th>Journey_Year</th>\n",
       "      <th>Dep_Hour</th>\n",
       "      <th>Dep_Minutes</th>\n",
       "      <th>Arrival_Hour</th>\n",
       "      <th>Arrival_Minutes</th>\n",
       "      <th>Duration_hours</th>\n",
       "      <th>Duration_mins</th>\n",
       "    </tr>\n",
       "  </thead>\n",
       "  <tbody>\n",
       "    <tr>\n",
       "      <th>0</th>\n",
       "      <td>3</td>\n",
       "      <td>0</td>\n",
       "      <td>5</td>\n",
       "      <td>0</td>\n",
       "      <td>3897</td>\n",
       "      <td>24</td>\n",
       "      <td>3</td>\n",
       "      <td>2019</td>\n",
       "      <td>22</td>\n",
       "      <td>20</td>\n",
       "      <td>1</td>\n",
       "      <td>10</td>\n",
       "      <td>2</td>\n",
       "      <td>50</td>\n",
       "    </tr>\n",
       "    <tr>\n",
       "      <th>1</th>\n",
       "      <td>1</td>\n",
       "      <td>3</td>\n",
       "      <td>0</td>\n",
       "      <td>2</td>\n",
       "      <td>7662</td>\n",
       "      <td>1</td>\n",
       "      <td>5</td>\n",
       "      <td>2019</td>\n",
       "      <td>5</td>\n",
       "      <td>50</td>\n",
       "      <td>13</td>\n",
       "      <td>15</td>\n",
       "      <td>7</td>\n",
       "      <td>25</td>\n",
       "    </tr>\n",
       "    <tr>\n",
       "      <th>2</th>\n",
       "      <td>4</td>\n",
       "      <td>2</td>\n",
       "      <td>1</td>\n",
       "      <td>2</td>\n",
       "      <td>13882</td>\n",
       "      <td>9</td>\n",
       "      <td>6</td>\n",
       "      <td>2019</td>\n",
       "      <td>9</td>\n",
       "      <td>25</td>\n",
       "      <td>4</td>\n",
       "      <td>25</td>\n",
       "      <td>19</td>\n",
       "      <td>0</td>\n",
       "    </tr>\n",
       "    <tr>\n",
       "      <th>3</th>\n",
       "      <td>3</td>\n",
       "      <td>3</td>\n",
       "      <td>0</td>\n",
       "      <td>1</td>\n",
       "      <td>6218</td>\n",
       "      <td>12</td>\n",
       "      <td>5</td>\n",
       "      <td>2019</td>\n",
       "      <td>18</td>\n",
       "      <td>5</td>\n",
       "      <td>23</td>\n",
       "      <td>30</td>\n",
       "      <td>5</td>\n",
       "      <td>25</td>\n",
       "    </tr>\n",
       "    <tr>\n",
       "      <th>4</th>\n",
       "      <td>3</td>\n",
       "      <td>0</td>\n",
       "      <td>5</td>\n",
       "      <td>1</td>\n",
       "      <td>13302</td>\n",
       "      <td>1</td>\n",
       "      <td>3</td>\n",
       "      <td>2019</td>\n",
       "      <td>16</td>\n",
       "      <td>50</td>\n",
       "      <td>21</td>\n",
       "      <td>35</td>\n",
       "      <td>4</td>\n",
       "      <td>45</td>\n",
       "    </tr>\n",
       "  </tbody>\n",
       "</table>\n",
       "</div>"
      ],
      "text/plain": [
       "   Airline  Source  Destination  Total_Stops  Price  Journey_Date  \\\n",
       "0        3       0            5            0   3897            24   \n",
       "1        1       3            0            2   7662             1   \n",
       "2        4       2            1            2  13882             9   \n",
       "3        3       3            0            1   6218            12   \n",
       "4        3       0            5            1  13302             1   \n",
       "\n",
       "   Journey_Month  Journey_Year  Dep_Hour  Dep_Minutes  Arrival_Hour  \\\n",
       "0              3          2019        22           20             1   \n",
       "1              5          2019         5           50            13   \n",
       "2              6          2019         9           25             4   \n",
       "3              5          2019        18            5            23   \n",
       "4              3          2019        16           50            21   \n",
       "\n",
       "   Arrival_Minutes  Duration_hours  Duration_mins  \n",
       "0               10               2             50  \n",
       "1               15               7             25  \n",
       "2               25              19              0  \n",
       "3               30               5             25  \n",
       "4               35               4             45  "
      ]
     },
     "execution_count": 17,
     "metadata": {},
     "output_type": "execute_result"
    }
   ],
   "source": [
    "# Select object columns for one-hot encoding\n",
    "object_columns = df.select_dtypes(include=['object']).columns\n",
    "\n",
    "# Perform one-hot encoding with get_dummies\n",
    "df = pd.get_dummies(df, columns=object_columns, drop_first=True).astype('int64')\n",
    "\n",
    "# Display the first few rows of the encoded DataFrame\n",
    "df.head()\n"
   ]
  },
  {
   "cell_type": "code",
   "execution_count": 18,
   "metadata": {
    "executionInfo": {
     "elapsed": 426,
     "status": "ok",
     "timestamp": 1715532253434,
     "user": {
      "displayName": "TEJAS N",
      "userId": "11679441052771901128"
     },
     "user_tz": -330
    },
    "id": "SToKi_fxsJt-"
   },
   "outputs": [],
   "source": [
    "# Scaling the Price into thousands\n",
    "df.Price = df.Price/1000"
   ]
  },
  {
   "cell_type": "code",
   "execution_count": 19,
   "metadata": {
    "executionInfo": {
     "elapsed": 13,
     "status": "ok",
     "timestamp": 1715532307120,
     "user": {
      "displayName": "TEJAS N",
      "userId": "11679441052771901128"
     },
     "user_tz": -330
    },
    "id": "hFdMysFzsMLT"
   },
   "outputs": [],
   "source": [
    "# Definig X and y\n",
    "X = df.drop('Price', axis=1)\n",
    "y = df[['Price']]"
   ]
  },
  {
   "cell_type": "code",
   "execution_count": 20,
   "metadata": {
    "executionInfo": {
     "elapsed": 5,
     "status": "ok",
     "timestamp": 1715532314035,
     "user": {
      "displayName": "TEJAS N",
      "userId": "11679441052771901128"
     },
     "user_tz": -330
    },
    "id": "c_0BBREesZX3"
   },
   "outputs": [],
   "source": [
    "from sklearn.model_selection import train_test_split\n",
    "# Splitting the data into train and test sets\n",
    "X_train, X_test, y_train, y_test = train_test_split(X, y, test_size=0.2, random_state=42)"
   ]
  },
  {
   "cell_type": "code",
   "execution_count": 21,
   "metadata": {
    "colab": {
     "base_uri": "https://localhost:8080/"
    },
    "executionInfo": {
     "elapsed": 484,
     "status": "ok",
     "timestamp": 1715532319599,
     "user": {
      "displayName": "TEJAS N",
      "userId": "11679441052771901128"
     },
     "user_tz": -330
    },
    "id": "szMg9PnDsbE4",
    "outputId": "57ec0598-dd8d-44a5-de00-b43e1b33aee4"
   },
   "outputs": [
    {
     "name": "stdout",
     "output_type": "stream",
     "text": [
      "X_train shape: (8369, 13)\n",
      "y_train shape: (8369, 1)\n",
      "X_test shape: (2093, 13)\n",
      "y_test shape: (2093, 1)\n"
     ]
    }
   ],
   "source": [
    "# Print the shapes of the train and test sets\n",
    "print(\"X_train shape:\", X_train.shape)\n",
    "print(\"y_train shape:\", y_train.shape)\n",
    "print(\"X_test shape:\", X_test.shape)\n",
    "print(\"y_test shape:\", y_test.shape)"
   ]
  },
  {
   "cell_type": "code",
   "execution_count": 22,
   "metadata": {
    "executionInfo": {
     "elapsed": 481,
     "status": "ok",
     "timestamp": 1715532325349,
     "user": {
      "displayName": "TEJAS N",
      "userId": "11679441052771901128"
     },
     "user_tz": -330
    },
    "id": "lDGhH6mQscTh"
   },
   "outputs": [],
   "source": [
    "# Linear Regression Model\n",
    "from sklearn.linear_model import LinearRegression\n",
    "from sklearn.metrics import mean_squared_error, mean_absolute_error, r2_score"
   ]
  },
  {
   "cell_type": "markdown",
   "metadata": {
    "id": "WMHTz5o8sg3D"
   },
   "source": [
    "<font color=\"blue\"><b> Building multiple model by using different algorithm such as Linear\n",
    "Regression, Decision Tree, and Random Forest etc. and check the\n",
    "performance of each model."
   ]
  },
  {
   "cell_type": "code",
   "execution_count": 23,
   "metadata": {
    "colab": {
     "base_uri": "https://localhost:8080/"
    },
    "executionInfo": {
     "elapsed": 9,
     "status": "ok",
     "timestamp": 1715532345360,
     "user": {
      "displayName": "TEJAS N",
      "userId": "11679441052771901128"
     },
     "user_tz": -330
    },
    "id": "Zk5dwbxMsdyR",
    "outputId": "239b4794-67d8-49a2-ca5b-ca8d7048cb1a"
   },
   "outputs": [
    {
     "name": "stdout",
     "output_type": "stream",
     "text": [
      "\n",
      "Linear Regression Model Metrics - Training Set:\n",
      "Mean Squared Error (MSE): 12.215119889309834\n",
      "Root Mean Squared Error (RMSE): 3.4950135749821967\n",
      "Mean Absolute Error (MAE): 2.463119743598899\n",
      "R-squared (R2): 0.4323397779817305\n",
      "Adjusted R-squared: 0.43145652449444893\n",
      "\n",
      "Linear Regression Model Metrics - Testing Set:\n",
      "Mean Squared Error (MSE): 11.535647603565343\n",
      "Root Mean Squared Error (RMSE): 3.3964168771759073\n",
      "Mean Absolute Error (MAE): 2.4378426506043\n",
      "R-squared (R2): 0.44673886357746206\n",
      "Adjusted R-squared: 0.4432793182318666\n"
     ]
    }
   ],
   "source": [
    "# Initialize the Linear Regression model\n",
    "linear_reg_model = LinearRegression()\n",
    "\n",
    "# Train the model\n",
    "linear_reg_model.fit(X_train, y_train)\n",
    "\n",
    "# Predict the target variable for the training set\n",
    "y_train_pred_linear_reg = linear_reg_model.predict(X_train)\n",
    "\n",
    "# Predict the target variable for the testing set\n",
    "y_test_pred_linear_reg = linear_reg_model.predict(X_test)\n",
    "\n",
    "# Evaluate the model performance on training set\n",
    "mse_train_linear_reg = mean_squared_error(y_train, y_train_pred_linear_reg)\n",
    "rmse_train_linear_reg = np.sqrt(mse_train_linear_reg)\n",
    "mae_train_linear_reg = mean_absolute_error(y_train, y_train_pred_linear_reg)\n",
    "r2_train_linear_reg = r2_score(y_train, y_train_pred_linear_reg)\n",
    "n_train = len(y_train)\n",
    "p_train = X_train.shape[1]\n",
    "adj_r2_train_linear_reg = 1 - (1 - r2_train_linear_reg) * (n_train - 1) / (n_train - p_train - 1)\n",
    "\n",
    "# Evaluate the model performance on testing set\n",
    "mse_test_linear_reg = mean_squared_error(y_test, y_test_pred_linear_reg)\n",
    "rmse_test_linear_reg = np.sqrt(mse_test_linear_reg)\n",
    "mae_test_linear_reg = mean_absolute_error(y_test, y_test_pred_linear_reg)\n",
    "r2_test_linear_reg = r2_score(y_test, y_test_pred_linear_reg)\n",
    "n_test = len(y_test)\n",
    "p_test = X_test.shape[1]\n",
    "adj_r2_test_linear_reg = 1 - (1 - r2_test_linear_reg) * (n_test - 1) / (n_test - p_test - 1)\n",
    "\n",
    "# Print the metrics for the Linear Regression model\n",
    "print(\"\\nLinear Regression Model Metrics - Training Set:\")\n",
    "print(\"Mean Squared Error (MSE):\", mse_train_linear_reg)\n",
    "print(\"Root Mean Squared Error (RMSE):\", rmse_train_linear_reg)\n",
    "print(\"Mean Absolute Error (MAE):\", mae_train_linear_reg)\n",
    "print(\"R-squared (R2):\", r2_train_linear_reg)\n",
    "print(\"Adjusted R-squared:\", adj_r2_train_linear_reg)\n",
    "print(\"\\nLinear Regression Model Metrics - Testing Set:\")\n",
    "print(\"Mean Squared Error (MSE):\", mse_test_linear_reg)\n",
    "print(\"Root Mean Squared Error (RMSE):\", rmse_test_linear_reg)\n",
    "print(\"Mean Absolute Error (MAE):\", mae_test_linear_reg)\n",
    "print(\"R-squared (R2):\", r2_test_linear_reg)\n",
    "print(\"Adjusted R-squared:\", adj_r2_test_linear_reg)"
   ]
  },
  {
   "cell_type": "code",
   "execution_count": 44,
   "metadata": {
    "colab": {
     "base_uri": "https://localhost:8080/"
    },
    "executionInfo": {
     "elapsed": 1825,
     "status": "ok",
     "timestamp": 1715532360548,
     "user": {
      "displayName": "TEJAS N",
      "userId": "11679441052771901128"
     },
     "user_tz": -330
    },
    "id": "j-6LCAeVsivk",
    "outputId": "c83f169f-d17c-4c69-92ae-8ed5a3657cdb"
   },
   "outputs": [
    {
     "name": "stdout",
     "output_type": "stream",
     "text": [
      "Best Hyperparameters: {'min_samples_split': 2, 'min_samples_leaf': 4, 'max_depth': 7}\n",
      "\n",
      "Decision Tree Regressor with Hyperparameter Tuning - Training Set Metrics:\n",
      "Mean Squared Error (MSE): 5.312537381549992\n",
      "Root Mean Squared Error (RMSE): 2.3048942235057104\n",
      "Mean Absolute Error (MAE): 1.5493395611521947\n",
      "R-squared (R2): 0.753116123556818\n",
      "Adjusted R-squared: 0.7527319834737825\n",
      "\n",
      "Decision Tree Regressor with Hyperparameter Tuning - Testing Set Metrics:\n",
      "Mean Squared Error (MSE): 6.278290081610588\n",
      "Root Mean Squared Error (RMSE): 2.5056516281419863\n",
      "Mean Absolute Error (MAE): 1.6239611918801335\n",
      "R-squared (R2): 0.698886961121398\n",
      "Adjusted R-squared: 0.6970040994064284\n"
     ]
    }
   ],
   "source": [
    "from sklearn.tree import DecisionTreeRegressor  # Importing the Decision Tree Regressor model\n",
    "from sklearn.model_selection import RandomizedSearchCV  # Importing RandomizedSearchCV for hyperparameter tuning\n",
    "\n",
    "# Define the parameter grid for hyperparameter tuning\n",
    "param_grid = {\n",
    "    'max_depth': [3, 5, 7],  # Limiting the maximum depth\n",
    "    'min_samples_split': [2, 5, 10],  # Increasing the minimum samples for split\n",
    "    'min_samples_leaf': [1, 2, 4]  # Increasing the minimum samples per leaf\n",
    "}\n",
    "\n",
    "# Initialize the Decision Tree Regressor model\n",
    "decision_tree_model = DecisionTreeRegressor(random_state=42)  # Creating an instance of the Decision Tree Regressor model\n",
    "\n",
    "# Perform RandomizedSearchCV to find the best hyperparameters\n",
    "random_search = RandomizedSearchCV(decision_tree_model, param_distributions=param_grid, n_iter=10, cv=5, scoring='neg_mean_squared_error', random_state=42)  # Searching for the best hyperparameters\n",
    "random_search.fit(X_train, y_train)  # Fitting the RandomizedSearchCV on the training data\n",
    "\n",
    "# Get the best hyperparameters\n",
    "best_params = random_search.best_params_  # Extracting the best hyperparameters found by RandomizedSearchCV\n",
    "print(\"Best Hyperparameters:\", best_params)\n",
    "\n",
    "# Use the best hyperparameters to train the model\n",
    "best_decision_tree_model = DecisionTreeRegressor(random_state=42, **best_params)  # Creating an instance of Decision Tree Regressor with the best hyperparameters\n",
    "best_decision_tree_model.fit(X_train, y_train)  # Training the model with the best hyperparameters\n",
    "\n",
    "# Predict the target variable for the training set\n",
    "y_train_pred_dt = best_decision_tree_model.predict(X_train)  # Making predictions on the training data\n",
    "\n",
    "# Predict the target variable for the testing set\n",
    "y_test_pred_dt = best_decision_tree_model.predict(X_test)  # Making predictions on the testing data\n",
    "\n",
    "# Evaluate the model performance on training set\n",
    "mse_train_dt = mean_squared_error(y_train, y_train_pred_dt)  # Calculating Mean Squared Error (MSE) for training data\n",
    "rmse_train_dt = np.sqrt(mse_train_dt)  # Calculating Root Mean Squared Error (RMSE) for training data\n",
    "mae_train_dt = mean_absolute_error(y_train, y_train_pred_dt)  # Calculating Mean Absolute Error (MAE) for training data\n",
    "r2_train_dt = r2_score(y_train, y_train_pred_dt)  # Calculating R-squared (R2) for training data\n",
    "n_train = len(y_train)  # Number of samples in training data\n",
    "p_train = X_train.shape[1]  # Number of features in training data\n",
    "adj_r2_train_dt = 1 - (1 - r2_train_dt) * (n_train - 1) / (n_train - p_train - 1)  # Adjusted R-squared for training data\n",
    "\n",
    "# Evaluate the model performance on testing set\n",
    "mse_test_dt = mean_squared_error(y_test, y_test_pred_dt)  # Calculating Mean Squared Error (MSE) for testing data\n",
    "rmse_test_dt = np.sqrt(mse_test_dt)  # Calculating Root Mean Squared Error (RMSE) for testing data\n",
    "mae_test_dt = mean_absolute_error(y_test, y_test_pred_dt)  # Calculating Mean Absolute Error (MAE) for testing data\n",
    "r2_test_dt = r2_score(y_test, y_test_pred_dt)  # Calculating R-squared (R2) for testing data\n",
    "n_test = len(y_test)  # Number of samples in testing data\n",
    "p_test = X_test.shape[1]  # Number of features in testing data\n",
    "adj_r2_test_dt = 1 - (1 - r2_test_dt) * (n_test - 1) / (n_test - p_test - 1)  # Adjusted R-squared for testing data\n",
    "\n",
    "# Print the metrics for the Decision Tree model\n",
    "print(\"\\nDecision Tree Regressor with Hyperparameter Tuning - Training Set Metrics:\")\n",
    "print(\"Mean Squared Error (MSE):\", mse_train_dt)\n",
    "print(\"Root Mean Squared Error (RMSE):\", rmse_train_dt)\n",
    "print(\"Mean Absolute Error (MAE):\", mae_train_dt)\n",
    "print(\"R-squared (R2):\", r2_train_dt)\n",
    "print(\"Adjusted R-squared:\", adj_r2_train_dt)\n",
    "print(\"\\nDecision Tree Regressor with Hyperparameter Tuning - Testing Set Metrics:\")\n",
    "print(\"Mean Squared Error (MSE):\", mse_test_dt)\n",
    "print(\"Root Mean Squared Error (RMSE):\", rmse_test_dt)\n",
    "print(\"Mean Absolute Error (MAE):\", mae_test_dt)\n",
    "print(\"R-squared (R2):\", r2_test_dt)\n",
    "print(\"Adjusted R-squared:\", adj_r2_test_dt)\n"
   ]
  },
  {
   "cell_type": "code",
   "execution_count": 45,
   "metadata": {
    "colab": {
     "base_uri": "https://localhost:8080/"
    },
    "executionInfo": {
     "elapsed": 8151,
     "status": "ok",
     "timestamp": 1715532385451,
     "user": {
      "displayName": "TEJAS N",
      "userId": "11679441052771901128"
     },
     "user_tz": -330
    },
    "id": "Y5wm3BZ-smDW",
    "outputId": "4c506c2d-7899-48b6-ef4a-4f0607ec61bf"
   },
   "outputs": [
    {
     "name": "stdout",
     "output_type": "stream",
     "text": [
      "Best Hyperparameters: {'n_estimators': 15, 'min_samples_split': 10, 'min_samples_leaf': 2, 'max_depth': 7}\n",
      "\n",
      "Random Forest Regressor with Hyperparameter Tuning - Training Set Metrics:\n",
      "Mean Squared Error (MSE): 4.6925137447371545\n",
      "Root Mean Squared Error (RMSE): 2.1662210747606427\n",
      "Mean Absolute Error (MAE): 1.47757889902486\n",
      "R-squared (R2): 0.7819298199035705\n",
      "Adjusted R-squared: 0.7815905126215533\n",
      "\n",
      "Random Forest Regressor with Hyperparameter Tuning - Testing Set Metrics:\n",
      "Mean Squared Error (MSE): 4.977456062075416\n",
      "Root Mean Squared Error (RMSE): 2.2310213047112337\n",
      "Mean Absolute Error (MAE): 1.5193499925100469\n",
      "R-squared (R2): 0.7612762549589358\n",
      "Adjusted R-squared: 0.759783513888453\n"
     ]
    }
   ],
   "source": [
    "# Importing necessary libraries for building and evaluating the Random Forest Regressor model\n",
    "\n",
    "from sklearn.ensemble import RandomForestRegressor  # Importing the Random Forest Regressor model\n",
    "from sklearn.model_selection import RandomizedSearchCV  # Importing RandomizedSearchCV for hyperparameter tuning\n",
    "from sklearn.metrics import mean_squared_error, mean_absolute_error, r2_score  # Importing evaluation metrics\n",
    "\n",
    "# Define the parameter grid for hyperparameter tuning\n",
    "param_grid = {\n",
    "    'max_depth': [3, 5,7],  # Maximum depth of each tree in the forest\n",
    "    'n_estimators': [10, 15, 20],  # Number of trees in the forest\n",
    "    'min_samples_split': [2, 5, 10],  # Minimum number of samples required to split an internal node\n",
    "    'min_samples_leaf': [1, 2,10]# Minimum number of samples required to be at a leaf node\n",
    "}\n",
    "\n",
    "# Initialize the Random Forest Regressor model\n",
    "random_forest_model = RandomForestRegressor(random_state=42)  # Creating an instance of the Random Forest Regressor model\n",
    "\n",
    "# Perform RandomizedSearchCV to find the best hyperparameters\n",
    "random_search = RandomizedSearchCV(random_forest_model, param_distributions=param_grid, n_iter=10, cv=5, scoring='neg_mean_squared_error', random_state=42)  # Searching for the best hyperparameters\n",
    "random_search.fit(X_train, y_train)  # Fitting the RandomizedSearchCV on the training data\n",
    "\n",
    "# Get the best hyperparameters\n",
    "best_params = random_search.best_params_  # Extracting the best hyperparameters found by RandomizedSearchCV\n",
    "print(\"Best Hyperparameters:\", best_params)\n",
    "\n",
    "# Use the best hyperparameters to train the model\n",
    "best_rf_model = RandomForestRegressor(random_state=42, **best_params)  # Creating an instance of Random Forest Regressor with the best hyperparameters\n",
    "best_rf_model.fit(X_train, y_train)  # Training the model with the best hyperparameters\n",
    "\n",
    "# Predict the target variable for the training set\n",
    "y_train_pred_rf = best_rf_model.predict(X_train)  # Making predictions on the training data\n",
    "\n",
    "# Predict the target variable for the testing set\n",
    "y_test_pred_rf = best_rf_model.predict(X_test)  # Making predictions on the testing data\n",
    "\n",
    "# Evaluate the model performance on training set\n",
    "mse_train_rf = mean_squared_error(y_train, y_train_pred_rf)  # Calculating Mean Squared Error (MSE) for training data\n",
    "rmse_train_rf = np.sqrt(mse_train_rf)  # Calculating Root Mean Squared Error (RMSE) for training data\n",
    "mae_train_rf = mean_absolute_error(y_train, y_train_pred_rf)  # Calculating Mean Absolute Error (MAE) for training data\n",
    "r2_train_rf = r2_score(y_train, y_train_pred_rf)  # Calculating R-squared (R2) for training data\n",
    "n_train = len(y_train)  # Number of samples in training data\n",
    "p_train = X_train.shape[1]  # Number of features in training data\n",
    "adj_r2_train_rf = 1 - (1 - r2_train_rf) * (n_train - 1) / (n_train - p_train - 1)  # Adjusted R-squared for training data\n",
    "\n",
    "# Evaluate the model performance on testing set\n",
    "mse_test_rf = mean_squared_error(y_test, y_test_pred_rf)  # Calculating Mean Squared Error (MSE) for testing data\n",
    "rmse_test_rf = np.sqrt(mse_test_rf)  # Calculating Root Mean Squared Error (RMSE) for testing data\n",
    "mae_test_rf = mean_absolute_error(y_test, y_test_pred_rf)  # Calculating Mean Absolute Error (MAE) for testing data\n",
    "r2_test_rf = r2_score(y_test, y_test_pred_rf)  # Calculating R-squared (R2) for testing data\n",
    "n_test = len(y_test)  # Number of samples in testing data\n",
    "p_test = X_test.shape[1]  # Number of features in testing data\n",
    "adj_r2_test_rf = 1 - (1 - r2_test_rf) * (n_test - 1) / (n_test - p_test - 1)  # Adjusted R-squared for testing data\n",
    "\n",
    "# Print the metrics for the Random Forest model\n",
    "print(\"\\nRandom Forest Regressor with Hyperparameter Tuning - Training Set Metrics:\")\n",
    "print(\"Mean Squared Error (MSE):\", mse_train_rf)\n",
    "print(\"Root Mean Squared Error (RMSE):\", rmse_train_rf)\n",
    "print(\"Mean Absolute Error (MAE):\", mae_train_rf)\n",
    "print(\"R-squared (R2):\", r2_train_rf)\n",
    "print(\"Adjusted R-squared:\", adj_r2_train_rf)\n",
    "print(\"\\nRandom Forest Regressor with Hyperparameter Tuning - Testing Set Metrics:\")\n",
    "print(\"Mean Squared Error (MSE):\", mse_test_rf)\n",
    "print(\"Root Mean Squared Error (RMSE):\", rmse_test_rf)\n",
    "print(\"Mean Absolute Error (MAE):\", mae_test_rf)\n",
    "print(\"R-squared (R2):\", r2_test_rf)\n",
    "print(\"Adjusted R-squared:\", adj_r2_test_rf)"
   ]
  },
  {
   "cell_type": "code",
   "execution_count": 46,
   "metadata": {
    "colab": {
     "base_uri": "https://localhost:8080/"
    },
    "executionInfo": {
     "elapsed": 416,
     "status": "ok",
     "timestamp": 1715532419685,
     "user": {
      "displayName": "TEJAS N",
      "userId": "11679441052771901128"
     },
     "user_tz": -330
    },
    "id": "8aHUMVGKsqiD",
    "outputId": "d9d0ce90-3ef5-4438-8cc7-174135d1ca6f"
   },
   "outputs": [
    {
     "name": "stdout",
     "output_type": "stream",
     "text": [
      "Duration_hours: 0.5428948395135689\n",
      "Journey_Date: 0.14218712745574907\n",
      "Airline: 0.1367619137376196\n",
      "Total_Stops: 0.06327663330011735\n",
      "Destination: 0.042228640628841324\n",
      "Journey_Month: 0.028215229900164243\n",
      "Arrival_Hour: 0.015427595103508733\n",
      "Dep_Hour: 0.008097952824414162\n",
      "Dep_Minutes: 0.007803995325768855\n",
      "Arrival_Minutes: 0.006809877453695271\n",
      "Source: 0.0031716682869216517\n",
      "Duration_mins: 0.0031245264696309633\n",
      "Journey_Year: 0.0\n"
     ]
    }
   ],
   "source": [
    "# Extract feature importances from the trained Random Forest model\n",
    "feature_importances = best_rf_model.feature_importances_\n",
    "\n",
    "# Sort feature importances in descending order\n",
    "sorted_indices = np.argsort(feature_importances)[::-1]\n",
    "\n",
    "# Get the names of features\n",
    "feature_names = X.columns\n",
    "\n",
    "# Print feature importances\n",
    "for idx in sorted_indices:\n",
    "    print(f\"{feature_names[idx]}: {feature_importances[idx]}\")\n",
    "\n"
   ]
  },
  {
   "cell_type": "code",
   "execution_count": 48,
   "metadata": {
    "colab": {
     "base_uri": "https://localhost:8080/",
     "height": 657
    },
    "executionInfo": {
     "elapsed": 1694,
     "status": "ok",
     "timestamp": 1715532511176,
     "user": {
      "displayName": "TEJAS N",
      "userId": "11679441052771901128"
     },
     "user_tz": -330
    },
    "id": "gV1J2j-gs0yN",
    "outputId": "54503b82-f948-439b-ec33-1d9b4ff2cfd7"
   },
   "outputs": [
    {
     "data": {
      "image/png": "[encoded data removed]",
      "text/plain": [
       "<Figure size 1000x600 with 1 Axes>"
      ]
     },
     "metadata": {},
     "output_type": "display_data"
    }
   ],
   "source": [
    "# Extract feature importances from the trained Random Forest model\n",
    "feature_importances = best_rf_model.feature_importances_\n",
    "\n",
    "# Sort feature importances in descending order\n",
    "sorted_indices = np.argsort(feature_importances)[::-1]\n",
    "\n",
    "# Get the names of features\n",
    "feature_names = X.columns\n",
    "\n",
    "# Plot the feature importances\n",
    "plt.figure(figsize=(10, 6))\n",
    "plt.bar(range(len(feature_importances)), feature_importances[sorted_indices], align='center')\n",
    "plt.xticks(range(len(feature_importances)), feature_names[sorted_indices], rotation=90)\n",
    "plt.xlabel('Feature')\n",
    "plt.ylabel('Feature Importance')\n",
    "plt.title('Random Forest Feature Importance')\n",
    "plt.show()\n"
   ]
  },
  {
   "cell_type": "markdown",
   "metadata": {
    "id": "Z8y5Qn0guUpA"
   },
   "source": [
    "<font color=\"blue\"><b> Comparing all of the models by using different evaluation technique and tuning\n",
    "the models as per the requirement."
   ]
  },
  {
   "cell_type": "code",
   "execution_count": 49,
   "metadata": {
    "colab": {
     "base_uri": "https://localhost:8080/",
     "height": 237
    },
    "executionInfo": {
     "elapsed": 481,
     "status": "ok",
     "timestamp": 1715532821151,
     "user": {
      "displayName": "TEJAS N",
      "userId": "11679441052771901128"
     },
     "user_tz": -330
    },
    "id": "EWMsJIEVtKy4",
    "outputId": "390e2d01-5781-4370-b100-8249a4995c9c"
   },
   "outputs": [
    {
     "data": {
      "text/html": [
       "<div>\n",
       "<style scoped>\n",
       "    .dataframe tbody tr th:only-of-type {\n",
       "        vertical-align: middle;\n",
       "    }\n",
       "\n",
       "    .dataframe tbody tr th {\n",
       "        vertical-align: top;\n",
       "    }\n",
       "\n",
       "    .dataframe thead th {\n",
       "        text-align: right;\n",
       "    }\n",
       "</style>\n",
       "<table border=\"1\" class=\"dataframe\">\n",
       "  <thead>\n",
       "    <tr style=\"text-align: right;\">\n",
       "      <th></th>\n",
       "      <th>Linear Regression (Train)</th>\n",
       "      <th>Linear Regression (Test)</th>\n",
       "      <th>Decision Tree (Train)</th>\n",
       "      <th>Decision Tree (Test)</th>\n",
       "      <th>Random Forest (Train)</th>\n",
       "      <th>Random Forest (Test)</th>\n",
       "    </tr>\n",
       "    <tr>\n",
       "      <th>Metric</th>\n",
       "      <th></th>\n",
       "      <th></th>\n",
       "      <th></th>\n",
       "      <th></th>\n",
       "      <th></th>\n",
       "      <th></th>\n",
       "    </tr>\n",
       "  </thead>\n",
       "  <tbody>\n",
       "    <tr>\n",
       "      <th>Mean Squared Error (MSE)</th>\n",
       "      <td>12.215120</td>\n",
       "      <td>11.535648</td>\n",
       "      <td>5.312537</td>\n",
       "      <td>6.278290</td>\n",
       "      <td>4.692514</td>\n",
       "      <td>4.977456</td>\n",
       "    </tr>\n",
       "    <tr>\n",
       "      <th>Root Mean Squared Error (RMSE)</th>\n",
       "      <td>3.495014</td>\n",
       "      <td>3.396417</td>\n",
       "      <td>2.304894</td>\n",
       "      <td>2.505652</td>\n",
       "      <td>2.166221</td>\n",
       "      <td>2.231021</td>\n",
       "    </tr>\n",
       "    <tr>\n",
       "      <th>Mean Absolute Error (MAE)</th>\n",
       "      <td>2.463120</td>\n",
       "      <td>2.437843</td>\n",
       "      <td>1.549340</td>\n",
       "      <td>1.623961</td>\n",
       "      <td>1.477579</td>\n",
       "      <td>1.519350</td>\n",
       "    </tr>\n",
       "    <tr>\n",
       "      <th>R-squared (R2)</th>\n",
       "      <td>0.432340</td>\n",
       "      <td>0.446739</td>\n",
       "      <td>0.753116</td>\n",
       "      <td>0.698887</td>\n",
       "      <td>0.781930</td>\n",
       "      <td>0.761276</td>\n",
       "    </tr>\n",
       "    <tr>\n",
       "      <th>Adjusted R-squared</th>\n",
       "      <td>0.431457</td>\n",
       "      <td>0.443279</td>\n",
       "      <td>0.752732</td>\n",
       "      <td>0.697004</td>\n",
       "      <td>0.781591</td>\n",
       "      <td>0.759784</td>\n",
       "    </tr>\n",
       "  </tbody>\n",
       "</table>\n",
       "</div>"
      ],
      "text/plain": [
       "                                Linear Regression (Train)  \\\n",
       "Metric                                                      \n",
       "Mean Squared Error (MSE)                        12.215120   \n",
       "Root Mean Squared Error (RMSE)                   3.495014   \n",
       "Mean Absolute Error (MAE)                        2.463120   \n",
       "R-squared (R2)                                   0.432340   \n",
       "Adjusted R-squared                               0.431457   \n",
       "\n",
       "                                Linear Regression (Test)  \\\n",
       "Metric                                                     \n",
       "Mean Squared Error (MSE)                       11.535648   \n",
       "Root Mean Squared Error (RMSE)                  3.396417   \n",
       "Mean Absolute Error (MAE)                       2.437843   \n",
       "R-squared (R2)                                  0.446739   \n",
       "Adjusted R-squared                              0.443279   \n",
       "\n",
       "                                Decision Tree (Train)  Decision Tree (Test)  \\\n",
       "Metric                                                                        \n",
       "Mean Squared Error (MSE)                     5.312537              6.278290   \n",
       "Root Mean Squared Error (RMSE)               2.304894              2.505652   \n",
       "Mean Absolute Error (MAE)                    1.549340              1.623961   \n",
       "R-squared (R2)                               0.753116              0.698887   \n",
       "Adjusted R-squared                           0.752732              0.697004   \n",
       "\n",
       "                                Random Forest (Train)  Random Forest (Test)  \n",
       "Metric                                                                       \n",
       "Mean Squared Error (MSE)                     4.692514              4.977456  \n",
       "Root Mean Squared Error (RMSE)               2.166221              2.231021  \n",
       "Mean Absolute Error (MAE)                    1.477579              1.519350  \n",
       "R-squared (R2)                               0.781930              0.761276  \n",
       "Adjusted R-squared                           0.781591              0.759784  "
      ]
     },
     "execution_count": 49,
     "metadata": {},
     "output_type": "execute_result"
    }
   ],
   "source": [
    "# Create a DataFrame to store the results\n",
    "results_df = pd.DataFrame({\n",
    "    'Metric': ['Mean Squared Error (MSE)', 'Root Mean Squared Error (RMSE)', 'Mean Absolute Error (MAE)',\n",
    "               'R-squared (R2)', 'Adjusted R-squared'],\n",
    "    'Linear Regression (Train)': [mse_train_linear_reg, rmse_train_linear_reg, mae_train_linear_reg,\n",
    "                                   r2_train_linear_reg, adj_r2_train_linear_reg],\n",
    "    'Linear Regression (Test)': [mse_test_linear_reg, rmse_test_linear_reg, mae_test_linear_reg,\n",
    "                                  r2_test_linear_reg, adj_r2_test_linear_reg],\n",
    "    'Decision Tree (Train)': [mse_train_dt, rmse_train_dt, mae_train_dt, r2_train_dt, adj_r2_train_dt],\n",
    "    'Decision Tree (Test)': [mse_test_dt, rmse_test_dt, mae_test_dt, r2_test_dt, adj_r2_test_dt],\n",
    "    'Random Forest (Train)': [mse_train_rf, rmse_train_rf, mae_train_rf, r2_train_rf, adj_r2_train_rf],\n",
    "    'Random Forest (Test)': [mse_test_rf, rmse_test_rf, mae_test_rf, r2_test_rf, adj_r2_test_rf]\n",
    "})\n",
    "\n",
    "# Set 'Metric' column as index\n",
    "results_df.set_index('Metric', inplace=True)\n",
    "\n",
    "# Print the results\n",
    "results_df\n"
   ]
  },
  {
   "cell_type": "markdown",
   "metadata": {
    "id": "4pW7YuUuufrr"
   },
   "source": [
    "<font color = \"blue\">Based on the provided metrics, the Random Forest model appears to be the best model as it has the lowest Mean Squared Error (MSE), Root Mean Squared Error (RMSE), and Mean Absolute Error (MAE) on both the training and testing sets. Additionally, it has the highest R-squared (R2) and Adjusted R-squared values, indicating better performance in capturing the variance in the data while avoiding overfitting."
   ]
  },
  {
   "cell_type": "markdown",
   "metadata": {
    "id": "_x_HV4PTumGy"
   },
   "source": [
    "<font color = blue><b>Conclusion"
   ]
  },
  {
   "cell_type": "markdown",
   "metadata": {
    "id": "qAEGJSXwun3H"
   },
   "source": [
    "\n",
    "1. **Duration_hours**: Flight duration is crucial, suggesting customers prioritize time efficiency.\n",
    "2. **Journey_Date**: Date impacts travel decisions, indicating varied preferences.\n",
    "3. **Airline**: Brand reputation and service quality significantly influence choices.\n",
    "4. **Total_Stops**: Non-stop or direct flights are preferred for convenience.\n",
    "5. **Destination**: Route planning is essential for attracting customers.\n",
    "6. **Journey_Month**: Seasonal trends affect travel patterns.\n",
    "7. **Arrival_Hour**: Optimal arrival times enhance customer satisfaction.\n",
    "8. **Others**: Operational efficiency and punctuality contribute to overall experience.\n"
   ]
  },
  {
   "cell_type": "code",
   "execution_count": 50,
   "metadata": {
    "executionInfo": {
     "elapsed": 424,
     "status": "ok",
     "timestamp": 1715532897936,
     "user": {
      "displayName": "TEJAS N",
      "userId": "11679441052771901128"
     },
     "user_tz": -330
    },
    "id": "mzQ5A9dauW38"
   },
   "outputs": [],
   "source": [
    "import pickle\n",
    "# dumping LabelEncoding objects\n",
    "pickle.dump(le_Airline,open('le_Airline.pkl','wb'))\n",
    "pickle.dump(le_Source,open('le_Source.pkl','wb'))\n",
    "pickle.dump(le_Destination,open('le_Destination.pkl','wb'))"
   ]
  }
 ],
 "metadata": {
  "colab": {
   "authorship_tag": "ABX9TyOrXa7heMvBNtXlRvoXr5GE",
   "provenance": []
  },
  "kernelspec": {
   "display_name": "Python 3 (ipykernel)",
   "language": "python",
   "name": "python3"
  },
  "language_info": {
   "codemirror_mode": {
    "name": "ipython",
    "version": 3
   },
   "file_extension": ".py",
   "mimetype": "text/x-python",
   "name": "python",
   "nbconvert_exporter": "python",
   "pygments_lexer": "ipython3",
   "version": "3.11.7"
  }
 },
 "nbformat": 4,
 "nbformat_minor": 4
}
